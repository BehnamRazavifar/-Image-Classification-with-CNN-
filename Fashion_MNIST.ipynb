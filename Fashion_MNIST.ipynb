{
 "cells": [
  {
   "cell_type": "code",
   "execution_count": null,
   "metadata": {
    "colab": {
     "base_uri": "https://localhost:8080/"
    },
    "executionInfo": {
     "elapsed": 564,
     "status": "ok",
     "timestamp": 1674803270410,
     "user": {
      "displayName": "brayan rodrigeuz",
      "userId": "17180205494598195486"
     },
     "user_tz": -210
    },
    "id": "M2IXpFpk9Rzs",
    "outputId": "49e152b6-7858-4353-bbfa-5b0ac0d58330"
   },
   "outputs": [
    {
     "name": "stdout",
     "output_type": "stream",
     "text": [
      "Fri Jan 27 07:07:49 2023       \n",
      "+-----------------------------------------------------------------------------+\n",
      "| NVIDIA-SMI 510.47.03    Driver Version: 510.47.03    CUDA Version: 11.6     |\n",
      "|-------------------------------+----------------------+----------------------+\n",
      "| GPU  Name        Persistence-M| Bus-Id        Disp.A | Volatile Uncorr. ECC |\n",
      "| Fan  Temp  Perf  Pwr:Usage/Cap|         Memory-Usage | GPU-Util  Compute M. |\n",
      "|                               |                      |               MIG M. |\n",
      "|===============================+======================+======================|\n",
      "|   0  Tesla T4            Off  | 00000000:00:04.0 Off |                    0 |\n",
      "| N/A   56C    P0    28W /  70W |      0MiB / 15360MiB |      0%      Default |\n",
      "|                               |                      |                  N/A |\n",
      "+-------------------------------+----------------------+----------------------+\n",
      "                                                                               \n",
      "+-----------------------------------------------------------------------------+\n",
      "| Processes:                                                                  |\n",
      "|  GPU   GI   CI        PID   Type   Process name                  GPU Memory |\n",
      "|        ID   ID                                                   Usage      |\n",
      "|=============================================================================|\n",
      "|  No running processes found                                                 |\n",
      "+-----------------------------------------------------------------------------+\n"
     ]
    }
   ],
   "source": [
    "# Check if NVIDIA GPU is enabled\n",
    "!nvidia-smi"
   ]
  },
  {
   "cell_type": "code",
   "execution_count": null,
   "metadata": {
    "id": "ptDDLl1m9b9a"
   },
   "outputs": [],
   "source": [
    "import tensorflow\n",
    "from keras.datasets import fashion_mnist\n",
    "from tensorflow.keras.models import Sequential\n",
    "from tensorflow.keras.layers import Dense\n",
    "from tensorflow.keras.utils import to_categorical"
   ]
  },
  {
   "cell_type": "code",
   "execution_count": null,
   "metadata": {
    "id": "4TApDV3UBDkR"
   },
   "outputs": [],
   "source": []
  },
  {
   "cell_type": "markdown",
   "metadata": {
    "id": "08iYVgZTL3Ol"
   },
   "source": [
    "# MLP"
   ]
  },
  {
   "cell_type": "code",
   "execution_count": null,
   "metadata": {
    "colab": {
     "base_uri": "https://localhost:8080/"
    },
    "executionInfo": {
     "elapsed": 3230,
     "status": "ok",
     "timestamp": 1674803279357,
     "user": {
      "displayName": "brayan rodrigeuz",
      "userId": "17180205494598195486"
     },
     "user_tz": -210
    },
    "id": "zP4wfDqdBbmg",
    "outputId": "9d55af9f-155a-4604-e88c-eb58ad8e9733"
   },
   "outputs": [
    {
     "name": "stdout",
     "output_type": "stream",
     "text": [
      "Downloading data from https://storage.googleapis.com/tensorflow/tf-keras-datasets/train-labels-idx1-ubyte.gz\n",
      "29515/29515 [==============================] - 0s 0us/step\n",
      "Downloading data from https://storage.googleapis.com/tensorflow/tf-keras-datasets/train-images-idx3-ubyte.gz\n",
      "26421880/26421880 [==============================] - 2s 0us/step\n",
      "Downloading data from https://storage.googleapis.com/tensorflow/tf-keras-datasets/t10k-labels-idx1-ubyte.gz\n",
      "5148/5148 [==============================] - 0s 0us/step\n",
      "Downloading data from https://storage.googleapis.com/tensorflow/tf-keras-datasets/t10k-images-idx3-ubyte.gz\n",
      "4422102/4422102 [==============================] - 0s 0us/step\n",
      "(60000, 28, 28)\n",
      "(60000,)\n",
      "(10000, 28, 28)\n",
      "(10000,)\n"
     ]
    }
   ],
   "source": [
    "from keras.datasets import fashion_mnist\n",
    "(X_train, y_train), (X_test, y_test) = fashion_mnist.load_data()\n",
    "print(X_train.shape)\n",
    "print(y_train.shape)\n",
    "print(X_test.shape)\n",
    "print(y_test.shape)"
   ]
  },
  {
   "cell_type": "code",
   "execution_count": null,
   "metadata": {
    "colab": {
     "base_uri": "https://localhost:8080/"
    },
    "executionInfo": {
     "elapsed": 155324,
     "status": "ok",
     "timestamp": 1674803434672,
     "user": {
      "displayName": "brayan rodrigeuz",
      "userId": "17180205494598195486"
     },
     "user_tz": -210
    },
    "id": "IObNICoe9cDO",
    "outputId": "f1a786d3-6ce4-4eca-e93f-38e98403e204"
   },
   "outputs": [
    {
     "name": "stdout",
     "output_type": "stream",
     "text": [
      "Feature shape: (784,)\n",
      "Epoch 1/50\n",
      "844/844 [==============================] - 11s 8ms/step - loss: 0.4993 - accuracy: 0.8235 - val_loss: 0.4000 - val_accuracy: 0.8497\n",
      "Epoch 2/50\n",
      "844/844 [==============================] - 5s 6ms/step - loss: 0.3737 - accuracy: 0.8644 - val_loss: 0.3619 - val_accuracy: 0.8670\n",
      "Epoch 3/50\n",
      "844/844 [==============================] - 4s 5ms/step - loss: 0.3372 - accuracy: 0.8772 - val_loss: 0.3731 - val_accuracy: 0.8595\n",
      "Epoch 4/50\n",
      "844/844 [==============================] - 3s 3ms/step - loss: 0.3137 - accuracy: 0.8849 - val_loss: 0.3331 - val_accuracy: 0.8732\n",
      "Epoch 5/50\n",
      "844/844 [==============================] - 3s 3ms/step - loss: 0.2946 - accuracy: 0.8912 - val_loss: 0.3389 - val_accuracy: 0.8782\n",
      "Epoch 6/50\n",
      "844/844 [==============================] - 3s 3ms/step - loss: 0.2794 - accuracy: 0.8959 - val_loss: 0.3048 - val_accuracy: 0.8850\n",
      "Epoch 7/50\n",
      "844/844 [==============================] - 3s 3ms/step - loss: 0.2681 - accuracy: 0.9010 - val_loss: 0.3058 - val_accuracy: 0.8853\n",
      "Epoch 8/50\n",
      "844/844 [==============================] - 3s 3ms/step - loss: 0.2565 - accuracy: 0.9040 - val_loss: 0.3086 - val_accuracy: 0.8853\n",
      "Epoch 9/50\n",
      "844/844 [==============================] - 3s 3ms/step - loss: 0.2457 - accuracy: 0.9081 - val_loss: 0.3028 - val_accuracy: 0.8847\n",
      "Epoch 10/50\n",
      "844/844 [==============================] - 3s 3ms/step - loss: 0.2357 - accuracy: 0.9116 - val_loss: 0.3117 - val_accuracy: 0.8875\n",
      "Epoch 11/50\n",
      "844/844 [==============================] - 3s 3ms/step - loss: 0.2251 - accuracy: 0.9175 - val_loss: 0.3153 - val_accuracy: 0.8853\n",
      "Epoch 12/50\n",
      "844/844 [==============================] - 3s 3ms/step - loss: 0.2205 - accuracy: 0.9172 - val_loss: 0.3130 - val_accuracy: 0.8872\n",
      "Epoch 13/50\n",
      "844/844 [==============================] - 3s 3ms/step - loss: 0.2132 - accuracy: 0.9204 - val_loss: 0.3136 - val_accuracy: 0.8870\n",
      "Epoch 14/50\n",
      "844/844 [==============================] - 3s 3ms/step - loss: 0.2042 - accuracy: 0.9240 - val_loss: 0.3218 - val_accuracy: 0.8850\n",
      "Epoch 15/50\n",
      "844/844 [==============================] - 3s 3ms/step - loss: 0.1962 - accuracy: 0.9271 - val_loss: 0.3318 - val_accuracy: 0.8833\n",
      "Epoch 16/50\n",
      "844/844 [==============================] - 3s 3ms/step - loss: 0.1930 - accuracy: 0.9285 - val_loss: 0.3238 - val_accuracy: 0.8897\n",
      "Epoch 17/50\n",
      "844/844 [==============================] - 3s 3ms/step - loss: 0.1848 - accuracy: 0.9311 - val_loss: 0.3379 - val_accuracy: 0.8860\n",
      "Epoch 18/50\n",
      "844/844 [==============================] - 3s 4ms/step - loss: 0.1813 - accuracy: 0.9325 - val_loss: 0.3186 - val_accuracy: 0.8912\n",
      "Epoch 19/50\n",
      "844/844 [==============================] - 3s 3ms/step - loss: 0.1756 - accuracy: 0.9342 - val_loss: 0.3279 - val_accuracy: 0.8888\n",
      "Epoch 20/50\n",
      "844/844 [==============================] - 3s 3ms/step - loss: 0.1699 - accuracy: 0.9370 - val_loss: 0.3311 - val_accuracy: 0.8948\n",
      "Epoch 21/50\n",
      "844/844 [==============================] - 3s 3ms/step - loss: 0.1657 - accuracy: 0.9380 - val_loss: 0.3355 - val_accuracy: 0.8880\n",
      "Epoch 22/50\n",
      "844/844 [==============================] - 3s 3ms/step - loss: 0.1588 - accuracy: 0.9421 - val_loss: 0.3301 - val_accuracy: 0.8930\n",
      "Epoch 23/50\n",
      "844/844 [==============================] - 3s 3ms/step - loss: 0.1532 - accuracy: 0.9425 - val_loss: 0.3280 - val_accuracy: 0.8913\n",
      "Epoch 24/50\n",
      "844/844 [==============================] - 3s 3ms/step - loss: 0.1505 - accuracy: 0.9436 - val_loss: 0.3340 - val_accuracy: 0.8913\n",
      "Epoch 25/50\n",
      "844/844 [==============================] - 3s 3ms/step - loss: 0.1466 - accuracy: 0.9456 - val_loss: 0.3477 - val_accuracy: 0.8898\n",
      "Epoch 26/50\n",
      "844/844 [==============================] - 3s 3ms/step - loss: 0.1422 - accuracy: 0.9471 - val_loss: 0.3660 - val_accuracy: 0.8893\n",
      "Epoch 27/50\n",
      "844/844 [==============================] - 3s 3ms/step - loss: 0.1347 - accuracy: 0.9505 - val_loss: 0.3453 - val_accuracy: 0.8932\n",
      "Epoch 28/50\n",
      "844/844 [==============================] - 3s 3ms/step - loss: 0.1363 - accuracy: 0.9487 - val_loss: 0.3536 - val_accuracy: 0.8873\n",
      "Epoch 29/50\n",
      "844/844 [==============================] - 3s 3ms/step - loss: 0.1289 - accuracy: 0.9529 - val_loss: 0.3659 - val_accuracy: 0.8907\n",
      "Epoch 30/50\n",
      "844/844 [==============================] - 3s 3ms/step - loss: 0.1267 - accuracy: 0.9534 - val_loss: 0.3799 - val_accuracy: 0.8803\n",
      "Epoch 31/50\n",
      "844/844 [==============================] - 4s 4ms/step - loss: 0.1231 - accuracy: 0.9547 - val_loss: 0.3815 - val_accuracy: 0.8863\n",
      "Epoch 32/50\n",
      "844/844 [==============================] - 3s 3ms/step - loss: 0.1172 - accuracy: 0.9574 - val_loss: 0.3952 - val_accuracy: 0.8838\n",
      "Epoch 33/50\n",
      "844/844 [==============================] - 3s 3ms/step - loss: 0.1170 - accuracy: 0.9570 - val_loss: 0.3873 - val_accuracy: 0.8825\n",
      "Epoch 34/50\n",
      "844/844 [==============================] - 3s 3ms/step - loss: 0.1131 - accuracy: 0.9585 - val_loss: 0.3790 - val_accuracy: 0.8903\n",
      "Epoch 35/50\n",
      "844/844 [==============================] - 3s 3ms/step - loss: 0.1090 - accuracy: 0.9596 - val_loss: 0.3853 - val_accuracy: 0.8907\n",
      "Epoch 36/50\n",
      "844/844 [==============================] - 3s 3ms/step - loss: 0.1061 - accuracy: 0.9614 - val_loss: 0.3960 - val_accuracy: 0.8845\n",
      "Epoch 37/50\n",
      "844/844 [==============================] - 3s 3ms/step - loss: 0.1047 - accuracy: 0.9623 - val_loss: 0.3865 - val_accuracy: 0.8893\n",
      "Epoch 38/50\n",
      "844/844 [==============================] - 3s 3ms/step - loss: 0.1034 - accuracy: 0.9631 - val_loss: 0.4067 - val_accuracy: 0.8835\n",
      "Epoch 39/50\n",
      "844/844 [==============================] - 3s 4ms/step - loss: 0.0984 - accuracy: 0.9645 - val_loss: 0.4138 - val_accuracy: 0.8883\n",
      "Epoch 40/50\n",
      "844/844 [==============================] - 3s 3ms/step - loss: 0.0966 - accuracy: 0.9650 - val_loss: 0.4098 - val_accuracy: 0.8875\n",
      "Epoch 41/50\n",
      "844/844 [==============================] - 3s 3ms/step - loss: 0.0935 - accuracy: 0.9656 - val_loss: 0.4168 - val_accuracy: 0.8890\n",
      "Epoch 42/50\n",
      "844/844 [==============================] - 3s 3ms/step - loss: 0.0910 - accuracy: 0.9672 - val_loss: 0.4165 - val_accuracy: 0.8853\n",
      "Epoch 43/50\n",
      "844/844 [==============================] - 3s 3ms/step - loss: 0.0881 - accuracy: 0.9682 - val_loss: 0.4347 - val_accuracy: 0.8825\n",
      "Epoch 44/50\n",
      "844/844 [==============================] - 3s 3ms/step - loss: 0.0866 - accuracy: 0.9686 - val_loss: 0.4399 - val_accuracy: 0.8863\n",
      "Epoch 45/50\n",
      "844/844 [==============================] - 3s 3ms/step - loss: 0.0834 - accuracy: 0.9696 - val_loss: 0.4254 - val_accuracy: 0.8917\n",
      "Epoch 46/50\n",
      "844/844 [==============================] - 3s 3ms/step - loss: 0.0801 - accuracy: 0.9711 - val_loss: 0.4411 - val_accuracy: 0.8843\n",
      "Epoch 47/50\n",
      "844/844 [==============================] - 3s 3ms/step - loss: 0.0819 - accuracy: 0.9704 - val_loss: 0.4341 - val_accuracy: 0.8877\n",
      "Epoch 48/50\n",
      "844/844 [==============================] - 3s 3ms/step - loss: 0.0761 - accuracy: 0.9730 - val_loss: 0.4562 - val_accuracy: 0.8818\n",
      "Epoch 49/50\n",
      "844/844 [==============================] - 3s 3ms/step - loss: 0.0791 - accuracy: 0.9709 - val_loss: 0.4528 - val_accuracy: 0.8873\n",
      "Epoch 50/50\n",
      "844/844 [==============================] - 3s 3ms/step - loss: 0.0749 - accuracy: 0.9729 - val_loss: 0.4407 - val_accuracy: 0.8882\n",
      "\n",
      "--- 148.58563995361328 seconds ---\n",
      "313/313 [==============================] - 1s 2ms/step - loss: 0.4759 - accuracy: 0.8850\n",
      "Test results - Loss: 0.4758858382701874 - Accuracy: 0.8849999904632568%\n"
     ]
    }
   ],
   "source": [
    "from keras.datasets import fashion_mnist\n",
    "(X_train, y_train), (X_test, y_test) = fashion_mnist.load_data()\n",
    "# print(X_train.shape)\n",
    "# print(y_train.shape)\n",
    "# print(X_test.shape)\n",
    "# print(y_test.shape)\n",
    "\n",
    "# Configuration options\n",
    "feature_vector_length = 28 * 28\n",
    "num_classes = 10\n",
    "\n",
    "\n",
    "# Reshape the data - MLPs do not understand such things as '2D'.\n",
    "# Reshape to 28 x 28  pixels = 784 features\n",
    "X_train = X_train.reshape(X_train.shape[0], feature_vector_length)\n",
    "X_test = X_test.reshape(X_test.shape[0], feature_vector_length)\n",
    "\n",
    "\n",
    "\n",
    "# Convert into greyscale\n",
    "X_train = X_train.astype('float32')\n",
    "X_test = X_test.astype('float32')\n",
    "X_train /= 255\n",
    "X_test /= 255\n",
    "\n",
    "# Convert target classes to categorical ones\n",
    "y_train = to_categorical(y_train, num_classes)\n",
    "y_test = to_categorical(y_test, num_classes)\n",
    "\n",
    "# Set the input shape\n",
    "input_shape = (feature_vector_length,)\n",
    "print(f'Feature shape: {input_shape}')\n",
    "\n",
    "# Create the model\n",
    "model = Sequential()\n",
    "model.add(Dense(100, input_shape=input_shape, activation='tanh'))\n",
    "model.add(Dense(100, activation='tanh'))\n",
    "model.add(Dense(num_classes, activation='softmax'))\n",
    "\n",
    "# Configure the model and start training\n",
    "model.compile(loss='categorical_crossentropy', optimizer='adam', metrics=['accuracy'])\n",
    "\n",
    "import time\n",
    "start_time = time.time()\n",
    "\n",
    "\n",
    "history = model.fit(X_train, y_train, batch_size=64, epochs=50, verbose=1, validation_split=0.1)\n",
    "\n",
    "print()\n",
    "print(\"--- %s seconds ---\" % (time.time() - start_time))\n",
    "\n",
    "# model.fit(X_train, y_train, epochs=10, batch_size=250, verbose=1, validation_split=0.2)\n",
    "\n",
    "# Test the model after training\n",
    "test_results = model.evaluate(X_test, y_test, verbose=1)\n",
    "print(f'Test results - Loss: {test_results[0]} - Accuracy: {test_results[1]}%')"
   ]
  },
  {
   "cell_type": "code",
   "execution_count": null,
   "metadata": {
    "id": "AcJ57fXn9cET"
   },
   "outputs": [],
   "source": []
  },
  {
   "cell_type": "code",
   "execution_count": null,
   "metadata": {
    "id": "ggAqb7lt9cFS"
   },
   "outputs": [],
   "source": []
  },
  {
   "cell_type": "markdown",
   "metadata": {
    "id": "ntCQAlwiLu1A"
   },
   "source": [
    "# CONV2d"
   ]
  },
  {
   "cell_type": "code",
   "execution_count": null,
   "metadata": {
    "id": "3BTZ7fUw9cJW"
   },
   "outputs": [],
   "source": [
    "import tensorflow as tf\n",
    "import tensorflow_datasets as tfds\n",
    "import pandas as pd\n",
    "\n",
    "import matplotlib.pyplot as plt\n",
    "%matplotlib inline"
   ]
  },
  {
   "cell_type": "code",
   "execution_count": null,
   "metadata": {
    "colab": {
     "base_uri": "https://localhost:8080/",
     "height": 185,
     "referenced_widgets": [
      "26e84030a0e1434592a3b35d14a81009",
      "f38df8ba4ae24785a9331f7c0079b03f",
      "6a29bed67bcb4884bbe57493a98ee8e9",
      "1f67f8e8e71c413aab843e663f95cf48",
      "78f8062951ab4097b7dfa893f9d155f6",
      "7ca1be3d2bf74367b4e0ddf07ddd4670",
      "ce5c9c9357f44f8eba426536824aa0bc",
      "72e8177670e749378295a1445d8f9090",
      "56b4ea9436374907b60fad90e66d17ac",
      "81ae9acf660848029d6b8250d6cb7b8a",
      "d548b45431f14476ae2651ea0a99c4e9",
      "0bba38f9b10b47d987f9a3227604bc6c",
      "5d5ada16c08141ccb762f8391ca5d41d",
      "a4b16648ee3b40459b356dace846b8cc",
      "d8dc48f640e64fb09e47ed19fda41cb9",
      "2d260e3d682849ae812acf4cbe9d8998",
      "ae32d521abe9411aa8a5ba43cace4775",
      "42a646e747074ad0a1800b658a6f517a",
      "b869ed63733a4e81bfb63a18bbac8a10",
      "1f9f04b78b3d4ba280af3511b91d1026",
      "79388ace30484feeb999f78ecaf046ed",
      "000574793ad64cb99bf97ea86c403916",
      "a56f80a54cb64eb581f6f608597b998f",
      "62f6f3b0db544b238d5b6cd4ba0003a3",
      "d8640c13af7248aa8135a3c02c602be1",
      "2b3b4d93df554b2ab58dd01167efe671",
      "c3487eb090d44a0e986d84d07366a6d7",
      "e47443040a0b4d0cbc124cb651675014",
      "1d5d34b0f6974946a4dff15722280b20",
      "396f07f2e6de4b628cbfac7ade7391f5",
      "21d2124d1a8f45ebaacd3718ce89fd7c",
      "745940dd4d4e44d7b862ff259c2b131f",
      "b2ced8ca17e74345bdf58812367d1fa2",
      "cce3291cc34b4d3797f1e1e295a1c1ab",
      "171a2f64673f4d7b95c33e31adb48a79",
      "da21a5cd521a44259f936a5be695adb5",
      "5dc255f6cdb94b63894f7bbe4c8c5954",
      "dd8922e69daf477b884b75c81afbfcbb",
      "8b168ceacbbd443f9eec7fb9b042b1ae",
      "e7495949abd2437991c0957bd3bcb31b",
      "f1076becbbdf41fba6a7557d9449cc47",
      "eaea2a97e98143e1bdc25ff8d2e507dd",
      "a5023ae44d2e4352aabaaaffbac6f38f",
      "24d0db5e966f42ff944c6da380977803",
      "bfa5fab3204240ce86597d96c1f68b1b",
      "faa305b3fbbf4e1d92a25654dade6c1b",
      "8f9e6d6df875468689202cdfa1a9a57c",
      "1bdc65a9a463471b92dbce0714564f23",
      "619b84ff757d4f779f407bc03e7d7f92",
      "19bb6bc8ea5043e2aa0535a2160845ef",
      "6b8652af4b844168bf088a38de647c7b",
      "1c7b93ff9bba4fda86ce7a5f528cbaa6",
      "478068a715554748923edc187e3a81a6",
      "854e8b88a11744c79c5ed3370c5655a4",
      "8418df10625240d0b65252b67ab01c82",
      "c6bb185a03bd4ca582708e17911a92fd",
      "43c9acd1b0cc4d949d6fb69a49fcac6b",
      "f8cafafb97a143759e4f3b22b877bdcd",
      "99cbb430ce1d434e9c253af929516305",
      "915bb63a200c4d3f823f77dcf233f50a",
      "19feb2b44b5a4a28a899acabc28dc464",
      "830efa2071884befb99e003e891408ba",
      "6df5c240cdd149feab3d41c25129dd3d",
      "4a58bff9689947729e30750408ac43a0",
      "77103c0738b14793a2f37a6fafbcea4a",
      "704555a401394be38e720f624c8665a7",
      "74e0663c1bf2455db9b00558ae6cd3c2",
      "bf60c83344754af99f5e16625af1cd08",
      "f5ac0f6b31e54fd0b1ab30769e45da17",
      "673760bce609439196d7c453350a9378",
      "bb04c202b5fe4168b918b70d1e46c69e",
      "de79ef24c3bf439d9843b280fa899dc8",
      "347d3e531a1c4d35b34b04e57122dffb",
      "bf936c33106c4eb1a2162da7d8051c5f",
      "001a318382844d7eb1d80ee8bc650166",
      "0b66cd45a20741889c4f40a64fc8e7a4",
      "b923b1dbb205483d8a77f35e282ef764",
      "2b388cf5d7d447979e50f33f3051d965",
      "1a8fbc40edbf4d25bea4ee326dfe146c",
      "0240e5c769104a0c913b9e0dc7429172",
      "d963b9ccdb9e4ae2a07308a9b80670c6",
      "319280a2afb8432f9c7cf17c21208763",
      "986dc71c2c1047b09b66b557e81bcc58",
      "041d44d95a604b689ba5830ac150385b",
      "50c17e33cf884aa0a4fecc662d92e8fc",
      "0e9fbb4a2f7c45769bbf2cb6dff65d91",
      "8f4e9eeb1c534c8ebbb06202fef8e703",
      "d32f7566c7e54c6bb3d00a4060def0df"
     ]
    },
    "executionInfo": {
     "elapsed": 53306,
     "status": "ok",
     "timestamp": 1674803488796,
     "user": {
      "displayName": "brayan rodrigeuz",
      "userId": "17180205494598195486"
     },
     "user_tz": -210
    },
    "id": "EKHwzc8Y9cKx",
    "outputId": "8401ad5e-c061-49a1-95f4-62ce4cf026de"
   },
   "outputs": [
    {
     "name": "stdout",
     "output_type": "stream",
     "text": [
      "Downloading and preparing dataset 29.45 MiB (download: 29.45 MiB, generated: 36.42 MiB, total: 65.87 MiB) to /root/tensorflow_datasets/fashion_mnist/3.0.1...\n"
     ]
    },
    {
     "data": {
      "application/vnd.jupyter.widget-view+json": {
       "model_id": "26e84030a0e1434592a3b35d14a81009",
       "version_major": 2,
       "version_minor": 0
      },
      "text/plain": [
       "Dl Completed...: 0 url [00:00, ? url/s]"
      ]
     },
     "metadata": {},
     "output_type": "display_data"
    },
    {
     "data": {
      "application/vnd.jupyter.widget-view+json": {
       "model_id": "0bba38f9b10b47d987f9a3227604bc6c",
       "version_major": 2,
       "version_minor": 0
      },
      "text/plain": [
       "Dl Size...: 0 MiB [00:00, ? MiB/s]"
      ]
     },
     "metadata": {},
     "output_type": "display_data"
    },
    {
     "data": {
      "application/vnd.jupyter.widget-view+json": {
       "model_id": "a56f80a54cb64eb581f6f608597b998f",
       "version_major": 2,
       "version_minor": 0
      },
      "text/plain": [
       "Extraction completed...: 0 file [00:00, ? file/s]"
      ]
     },
     "metadata": {},
     "output_type": "display_data"
    },
    {
     "data": {
      "application/vnd.jupyter.widget-view+json": {
       "model_id": "cce3291cc34b4d3797f1e1e295a1c1ab",
       "version_major": 2,
       "version_minor": 0
      },
      "text/plain": [
       "Generating splits...:   0%|          | 0/2 [00:00<?, ? splits/s]"
      ]
     },
     "metadata": {},
     "output_type": "display_data"
    },
    {
     "data": {
      "application/vnd.jupyter.widget-view+json": {
       "model_id": "bfa5fab3204240ce86597d96c1f68b1b",
       "version_major": 2,
       "version_minor": 0
      },
      "text/plain": [
       "Generating train examples...:   0%|          | 0/60000 [00:00<?, ? examples/s]"
      ]
     },
     "metadata": {},
     "output_type": "display_data"
    },
    {
     "data": {
      "application/vnd.jupyter.widget-view+json": {
       "model_id": "c6bb185a03bd4ca582708e17911a92fd",
       "version_major": 2,
       "version_minor": 0
      },
      "text/plain": [
       "Shuffling /root/tensorflow_datasets/fashion_mnist/3.0.1.incompleteD16QBL/fashion_mnist-train.tfrecord*...:   0…"
      ]
     },
     "metadata": {},
     "output_type": "display_data"
    },
    {
     "data": {
      "application/vnd.jupyter.widget-view+json": {
       "model_id": "74e0663c1bf2455db9b00558ae6cd3c2",
       "version_major": 2,
       "version_minor": 0
      },
      "text/plain": [
       "Generating test examples...:   0%|          | 0/10000 [00:00<?, ? examples/s]"
      ]
     },
     "metadata": {},
     "output_type": "display_data"
    },
    {
     "data": {
      "application/vnd.jupyter.widget-view+json": {
       "model_id": "2b388cf5d7d447979e50f33f3051d965",
       "version_major": 2,
       "version_minor": 0
      },
      "text/plain": [
       "Shuffling /root/tensorflow_datasets/fashion_mnist/3.0.1.incompleteD16QBL/fashion_mnist-test.tfrecord*...:   0%…"
      ]
     },
     "metadata": {},
     "output_type": "display_data"
    },
    {
     "name": "stdout",
     "output_type": "stream",
     "text": [
      "Dataset fashion_mnist downloaded and prepared to /root/tensorflow_datasets/fashion_mnist/3.0.1. Subsequent calls will reuse this data.\n",
      "dict_keys([Split('train'), Split('test')])\n"
     ]
    }
   ],
   "source": [
    "## MNIST dataset\n",
    "\n",
    "mnist_bldr = tfds.builder('fashion_mnist')\n",
    "mnist_bldr.download_and_prepare()\n",
    "datasets = mnist_bldr.as_dataset(shuffle_files=False)\n",
    "print(datasets.keys())\n",
    "mnist_train_orig, mnist_test_orig = datasets['train'], datasets['test']"
   ]
  },
  {
   "cell_type": "code",
   "execution_count": null,
   "metadata": {
    "id": "tWGSXgFT9cNA"
   },
   "outputs": [],
   "source": [
    "BUFFER_SIZE = 10000\n",
    "BATCH_SIZE = 64\n",
    "NUM_EPOCHS = 20"
   ]
  },
  {
   "cell_type": "code",
   "execution_count": null,
   "metadata": {
    "id": "KXnaRbYT9cQd"
   },
   "outputs": [],
   "source": [
    "mnist_train = mnist_train_orig.map(\n",
    "    lambda item: (tf.cast(item['image'], tf.float32)/255.0, \n",
    "                  tf.cast(item['label'], tf.int32)))\n",
    "\n",
    "mnist_test = mnist_test_orig.map(\n",
    "    lambda item: (tf.cast(item['image'], tf.float32)/255.0, \n",
    "                  tf.cast(item['label'], tf.int32)))\n",
    "\n",
    "tf.random.set_seed(1)\n",
    "\n",
    "mnist_train = mnist_train.shuffle(buffer_size=BUFFER_SIZE,\n",
    "                                  reshuffle_each_iteration=True)\n",
    "\n",
    "mnist_valid = mnist_train.take(10000).batch(BATCH_SIZE)\n",
    "mnist_train = mnist_train.skip(10000).batch(BATCH_SIZE)"
   ]
  },
  {
   "cell_type": "code",
   "execution_count": null,
   "metadata": {
    "id": "JJXqVanP9ccU"
   },
   "outputs": [],
   "source": []
  },
  {
   "cell_type": "markdown",
   "metadata": {
    "id": "L3fHU1TUNLah"
   },
   "source": [
    "## Constructing a CNN in Keras"
   ]
  },
  {
   "cell_type": "code",
   "execution_count": null,
   "metadata": {
    "id": "9mpRpcUn9chU"
   },
   "outputs": [],
   "source": [
    "model = tf.keras.Sequential()\n",
    "\n",
    "model.add(tf.keras.layers.Conv2D(\n",
    "    filters=32, kernel_size=(5, 5),\n",
    "    strides=(1, 1), padding='same',\n",
    "    data_format='channels_last',\n",
    "    name='conv_1', activation='relu'))\n",
    "\n",
    "model.add(tf.keras.layers.MaxPool2D(\n",
    "    pool_size=(2, 2), name='pool_1'))\n",
    "    \n",
    "model.add(tf.keras.layers.Conv2D(\n",
    "    filters=64, kernel_size=(5, 5),\n",
    "    strides=(1, 1), padding='same',\n",
    "    name='conv_2', activation='relu'))\n",
    "\n",
    "model.add(tf.keras.layers.MaxPool2D(pool_size=(2, 2), name='pool_2'))"
   ]
  },
  {
   "cell_type": "code",
   "execution_count": null,
   "metadata": {
    "colab": {
     "base_uri": "https://localhost:8080/"
    },
    "executionInfo": {
     "elapsed": 40,
     "status": "ok",
     "timestamp": 1674803488799,
     "user": {
      "displayName": "brayan rodrigeuz",
      "userId": "17180205494598195486"
     },
     "user_tz": -210
    },
    "id": "LggWUbBo9ciV",
    "outputId": "b5b5a4e6-e4ec-4d70-fd20-9ed4b1e76d9d"
   },
   "outputs": [
    {
     "data": {
      "text/plain": [
       "TensorShape([16, 7, 7, 64])"
      ]
     },
     "execution_count": 10,
     "metadata": {},
     "output_type": "execute_result"
    }
   ],
   "source": [
    "model.compute_output_shape(input_shape=(16, 28, 28, 1))"
   ]
  },
  {
   "cell_type": "code",
   "execution_count": null,
   "metadata": {
    "colab": {
     "base_uri": "https://localhost:8080/"
    },
    "executionInfo": {
     "elapsed": 38,
     "status": "ok",
     "timestamp": 1674803488799,
     "user": {
      "displayName": "brayan rodrigeuz",
      "userId": "17180205494598195486"
     },
     "user_tz": -210
    },
    "id": "R_WhUGLh9ckk",
    "outputId": "b43300d9-1e14-436b-9010-08b3c783df0e"
   },
   "outputs": [
    {
     "data": {
      "text/plain": [
       "TensorShape([16, 3136])"
      ]
     },
     "execution_count": 11,
     "metadata": {},
     "output_type": "execute_result"
    }
   ],
   "source": [
    "model.add(tf.keras.layers.Flatten())\n",
    "    \n",
    "model.compute_output_shape(input_shape=(16, 28, 28, 1))"
   ]
  },
  {
   "cell_type": "code",
   "execution_count": null,
   "metadata": {
    "id": "tRd85eH9Nb8j"
   },
   "outputs": [],
   "source": [
    "model.add(tf.keras.layers.Dense(\n",
    "    units=1024, name='fc_1', \n",
    "    activation='relu'))\n",
    "\n",
    "model.add(tf.keras.layers.Dropout(\n",
    "    rate=0.5))\n",
    "    \n",
    "model.add(tf.keras.layers.Dense(\n",
    "    units=10, name='fc_2',\n",
    "    activation='softmax'))"
   ]
  },
  {
   "cell_type": "code",
   "execution_count": null,
   "metadata": {
    "colab": {
     "base_uri": "https://localhost:8080/"
    },
    "executionInfo": {
     "elapsed": 36,
     "status": "ok",
     "timestamp": 1674803488800,
     "user": {
      "displayName": "brayan rodrigeuz",
      "userId": "17180205494598195486"
     },
     "user_tz": -210
    },
    "id": "UbJP55rMNcIQ",
    "outputId": "25eea8ce-9089-4932-9a22-5416df24d40e"
   },
   "outputs": [
    {
     "data": {
      "text/plain": [
       "TensorShape([16, 10])"
      ]
     },
     "execution_count": 13,
     "metadata": {},
     "output_type": "execute_result"
    }
   ],
   "source": [
    "tf.random.set_seed(1)\n",
    "model.build(input_shape=(None, 28, 28, 1))\n",
    "\n",
    "model.compute_output_shape(input_shape=(16, 28, 28, 1))"
   ]
  },
  {
   "cell_type": "code",
   "execution_count": null,
   "metadata": {
    "colab": {
     "base_uri": "https://localhost:8080/"
    },
    "executionInfo": {
     "elapsed": 35,
     "status": "ok",
     "timestamp": 1674803488801,
     "user": {
      "displayName": "brayan rodrigeuz",
      "userId": "17180205494598195486"
     },
     "user_tz": -210
    },
    "id": "_bnzwfbRNcK4",
    "outputId": "dd531e00-d7e6-4d57-dbf0-521337359c4e"
   },
   "outputs": [
    {
     "name": "stdout",
     "output_type": "stream",
     "text": [
      "Model: \"sequential_1\"\n",
      "_________________________________________________________________\n",
      " Layer (type)                Output Shape              Param #   \n",
      "=================================================================\n",
      " conv_1 (Conv2D)             (None, 28, 28, 32)        832       \n",
      "                                                                 \n",
      " pool_1 (MaxPooling2D)       (None, 14, 14, 32)        0         \n",
      "                                                                 \n",
      " conv_2 (Conv2D)             (None, 14, 14, 64)        51264     \n",
      "                                                                 \n",
      " pool_2 (MaxPooling2D)       (None, 7, 7, 64)          0         \n",
      "                                                                 \n",
      " flatten (Flatten)           (None, 3136)              0         \n",
      "                                                                 \n",
      " fc_1 (Dense)                (None, 1024)              3212288   \n",
      "                                                                 \n",
      " dropout (Dropout)           (None, 1024)              0         \n",
      "                                                                 \n",
      " fc_2 (Dense)                (None, 10)                10250     \n",
      "                                                                 \n",
      "=================================================================\n",
      "Total params: 3,274,634\n",
      "Trainable params: 3,274,634\n",
      "Non-trainable params: 0\n",
      "_________________________________________________________________\n"
     ]
    }
   ],
   "source": [
    "model.summary()"
   ]
  },
  {
   "cell_type": "code",
   "execution_count": null,
   "metadata": {
    "colab": {
     "base_uri": "https://localhost:8080/"
    },
    "executionInfo": {
     "elapsed": 183253,
     "status": "ok",
     "timestamp": 1674803672039,
     "user": {
      "displayName": "brayan rodrigeuz",
      "userId": "17180205494598195486"
     },
     "user_tz": -210
    },
    "id": "XL7h241CNcNw",
    "outputId": "4778b3a1-8184-4b59-b5c4-c423dfc47d08"
   },
   "outputs": [
    {
     "name": "stdout",
     "output_type": "stream",
     "text": [
      "Epoch 1/20\n",
      "782/782 [==============================] - 15s 10ms/step - loss: 0.4512 - accuracy: 0.8366 - val_loss: 0.2930 - val_accuracy: 0.8937\n",
      "Epoch 2/20\n",
      "782/782 [==============================] - 7s 8ms/step - loss: 0.2918 - accuracy: 0.8929 - val_loss: 0.2560 - val_accuracy: 0.9039\n",
      "Epoch 3/20\n",
      "782/782 [==============================] - 7s 8ms/step - loss: 0.2474 - accuracy: 0.9090 - val_loss: 0.2204 - val_accuracy: 0.9176\n",
      "Epoch 4/20\n",
      "782/782 [==============================] - 10s 10ms/step - loss: 0.2184 - accuracy: 0.9186 - val_loss: 0.2069 - val_accuracy: 0.9223\n",
      "Epoch 5/20\n",
      "782/782 [==============================] - 10s 11ms/step - loss: 0.1976 - accuracy: 0.9263 - val_loss: 0.2066 - val_accuracy: 0.9265\n",
      "Epoch 6/20\n",
      "782/782 [==============================] - 9s 10ms/step - loss: 0.1773 - accuracy: 0.9334 - val_loss: 0.1943 - val_accuracy: 0.9286\n",
      "Epoch 7/20\n",
      "782/782 [==============================] - 9s 11ms/step - loss: 0.1572 - accuracy: 0.9418 - val_loss: 0.1636 - val_accuracy: 0.9398\n",
      "Epoch 8/20\n",
      "782/782 [==============================] - 9s 10ms/step - loss: 0.1419 - accuracy: 0.9466 - val_loss: 0.1735 - val_accuracy: 0.9339\n",
      "Epoch 9/20\n",
      "782/782 [==============================] - 10s 12ms/step - loss: 0.1283 - accuracy: 0.9528 - val_loss: 0.1543 - val_accuracy: 0.9437\n",
      "Epoch 10/20\n",
      "782/782 [==============================] - 7s 8ms/step - loss: 0.1143 - accuracy: 0.9568 - val_loss: 0.1345 - val_accuracy: 0.9529\n",
      "Epoch 11/20\n",
      "782/782 [==============================] - 7s 8ms/step - loss: 0.1018 - accuracy: 0.9615 - val_loss: 0.1267 - val_accuracy: 0.9549\n",
      "Epoch 12/20\n",
      "782/782 [==============================] - 9s 11ms/step - loss: 0.0962 - accuracy: 0.9647 - val_loss: 0.1170 - val_accuracy: 0.9570\n",
      "Epoch 13/20\n",
      "782/782 [==============================] - 9s 10ms/step - loss: 0.0843 - accuracy: 0.9681 - val_loss: 0.1184 - val_accuracy: 0.9573\n",
      "Epoch 14/20\n",
      "782/782 [==============================] - 12s 14ms/step - loss: 0.0770 - accuracy: 0.9718 - val_loss: 0.1181 - val_accuracy: 0.9591\n",
      "Epoch 15/20\n",
      "782/782 [==============================] - 11s 12ms/step - loss: 0.0740 - accuracy: 0.9729 - val_loss: 0.1132 - val_accuracy: 0.9600\n",
      "Epoch 16/20\n",
      "782/782 [==============================] - 7s 9ms/step - loss: 0.0676 - accuracy: 0.9746 - val_loss: 0.1022 - val_accuracy: 0.9624\n",
      "Epoch 17/20\n",
      "782/782 [==============================] - 7s 9ms/step - loss: 0.0614 - accuracy: 0.9777 - val_loss: 0.0784 - val_accuracy: 0.9705\n",
      "Epoch 18/20\n",
      "782/782 [==============================] - 7s 8ms/step - loss: 0.0552 - accuracy: 0.9796 - val_loss: 0.0864 - val_accuracy: 0.9709\n",
      "Epoch 19/20\n",
      "782/782 [==============================] - 6s 8ms/step - loss: 0.0557 - accuracy: 0.9802 - val_loss: 0.0869 - val_accuracy: 0.9687\n",
      "Epoch 20/20\n",
      "782/782 [==============================] - 6s 8ms/step - loss: 0.0511 - accuracy: 0.9813 - val_loss: 0.0773 - val_accuracy: 0.9748\n"
     ]
    }
   ],
   "source": [
    "model.compile(optimizer=tf.keras.optimizers.Adam(),\n",
    "              loss=tf.keras.losses.SparseCategoricalCrossentropy(),\n",
    "              metrics=['accuracy']) # same as `tf.keras.metrics.SparseCategoricalAccuracy(name='accuracy')`\n",
    "\n",
    "history = model.fit(mnist_train, epochs=NUM_EPOCHS, \n",
    "                    validation_data=mnist_valid, \n",
    "                    shuffle=True)"
   ]
  },
  {
   "cell_type": "code",
   "execution_count": null,
   "metadata": {
    "colab": {
     "base_uri": "https://localhost:8080/",
     "height": 284
    },
    "executionInfo": {
     "elapsed": 17,
     "status": "ok",
     "timestamp": 1674803672040,
     "user": {
      "displayName": "brayan rodrigeuz",
      "userId": "17180205494598195486"
     },
     "user_tz": -210
    },
    "id": "u2mmPaj5NcQE",
    "outputId": "4a55f2c9-d700-4cb2-9813-d370383b5cdb"
   },
   "outputs": [
    {
     "data": {
      "image/png": "[encoded data removed]",
      "text/plain": [
       "<Figure size 864x288 with 2 Axes>"
      ]
     },
     "metadata": {
      "needs_background": "light"
     },
     "output_type": "display_data"
    }
   ],
   "source": [
    "import numpy as np\n",
    "hist = history.history\n",
    "x_arr = np.arange(len(hist['loss'])) + 1\n",
    "\n",
    "fig = plt.figure(figsize=(12, 4))\n",
    "ax = fig.add_subplot(1, 2, 1)\n",
    "ax.plot(x_arr, hist['loss'], '-o', label='Train loss')\n",
    "ax.plot(x_arr, hist['val_loss'], '--<', label='Validation loss')\n",
    "ax.set_xlabel('Epoch', size=15)\n",
    "ax.set_ylabel('Loss', size=15)\n",
    "ax.legend(fontsize=15)\n",
    "ax = fig.add_subplot(1, 2, 2)\n",
    "ax.plot(x_arr, hist['accuracy'], '-o', label='Train acc.')\n",
    "ax.plot(x_arr, hist['val_accuracy'], '--<', label='Validation acc.')\n",
    "ax.legend(fontsize=15)\n",
    "ax.set_xlabel('Epoch', size=15)\n",
    "ax.set_ylabel('Accuracy', size=15)\n",
    "\n",
    "#plt.savefig('figures/15_12.png', dpi=300)\n",
    "plt.show()"
   ]
  },
  {
   "cell_type": "code",
   "execution_count": null,
   "metadata": {
    "colab": {
     "base_uri": "https://localhost:8080/"
    },
    "executionInfo": {
     "elapsed": 2297,
     "status": "ok",
     "timestamp": 1674803674324,
     "user": {
      "displayName": "brayan rodrigeuz",
      "userId": "17180205494598195486"
     },
     "user_tz": -210
    },
    "id": "9rgLSY09NcS6",
    "outputId": "d631fdf8-69ee-4d33-a633-5850fcfdeceb"
   },
   "outputs": [
    {
     "name": "stdout",
     "output_type": "stream",
     "text": [
      "500/500 [==============================] - 2s 4ms/step - loss: 0.3833 - accuracy: 0.9198\n",
      "\n",
      "Test Acc. 91.98%\n"
     ]
    }
   ],
   "source": [
    "test_results = model.evaluate(mnist_test.batch(20))\n",
    "print('\\nTest Acc. {:.2f}%'.format(test_results[1]*100))"
   ]
  },
  {
   "cell_type": "code",
   "execution_count": 91,
   "metadata": {
    "colab": {
     "base_uri": "https://localhost:8080/",
     "height": 284
    },
    "executionInfo": {
     "elapsed": 11,
     "status": "ok",
     "timestamp": 1674808606162,
     "user": {
      "displayName": "brayan rodrigeuz",
      "userId": "17180205494598195486"
     },
     "user_tz": -210
    },
    "id": "8nHf5Am_9cm7",
    "outputId": "401da9e0-935e-42d1-e3e5-fbe87e38d6d1"
   },
   "outputs": [
    {
     "name": "stdout",
     "output_type": "stream",
     "text": [
      "TensorShape([12, 10])\n",
      "tf.Tensor([4 6 9 7 5 1 0 5 7 4 0 8], shape=(12,), dtype=int64)\n"
     ]
    },
    {
     "data": {
      "image/png": "[encoded data removed]",
      "text/plain": [
       "<Figure size 864x288 with 12 Axes>"
      ]
     },
     "metadata": {},
     "output_type": "display_data"
    }
   ],
   "source": [
    "batch_test = next(iter(mnist_test.batch(12)))\n",
    "\n",
    "preds = model(batch_test[0])\n",
    "\n",
    "tf.print(preds.shape)\n",
    "preds = tf.argmax(preds, axis=1)\n",
    "print(preds)\n",
    "\n",
    "fig = plt.figure(figsize=(12, 4))\n",
    "for i in range(12):\n",
    "    ax = fig.add_subplot(2, 6, i+1)\n",
    "    ax.set_xticks([]); ax.set_yticks([])\n",
    "    img = batch_test[0][i, :, :, 0]\n",
    "    ax.imshow(img, cmap='gray_r')\n",
    "    ax.text(0.9, 0.1, '{}'.format(preds[i]), \n",
    "            size=15, color='blue',\n",
    "            horizontalalignment='center',\n",
    "            verticalalignment='center', \n",
    "            transform=ax.transAxes)\n",
    "    \n",
    "#plt.savefig('figures/15_13.png', dpi=300)\n",
    "plt.show()"
   ]
  },
  {
   "cell_type": "code",
   "execution_count": null,
   "metadata": {
    "id": "iVs0R-bt9cq5"
   },
   "outputs": [],
   "source": []
  },
  {
   "cell_type": "code",
   "execution_count": null,
   "metadata": {
    "id": "bXuoSr2RN-SY"
   },
   "outputs": [],
   "source": [
    "import tensorflow as tf\n",
    "from keras.datasets import fashion_mnist\n",
    "from tensorflow.keras.models import Sequential\n",
    "from tensorflow.keras.layers import Dense\n",
    "from tensorflow.keras.utils import to_categorical"
   ]
  },
  {
   "cell_type": "code",
   "execution_count": null,
   "metadata": {
    "id": "EYB3SVX6_hY9"
   },
   "outputs": [],
   "source": []
  },
  {
   "cell_type": "code",
   "execution_count": 204,
   "metadata": {
    "colab": {
     "base_uri": "https://localhost:8080/"
    },
    "executionInfo": {
     "elapsed": 264768,
     "status": "ok",
     "timestamp": 1674813569699,
     "user": {
      "displayName": "brayan rodrigeuz",
      "userId": "17180205494598195486"
     },
     "user_tz": -210
    },
    "id": "SLXHeM9MSlbQ",
    "outputId": "666c9666-be73-45c1-9949-0f908ce8601d"
   },
   "outputs": [
    {
     "name": "stdout",
     "output_type": "stream",
     "text": [
      "Epoch 1/50\n",
      "844/844 [==============================] - 5s 6ms/step - loss: 0.4421 - accuracy: 0.8405 - val_loss: 0.2924 - val_accuracy: 0.8915\n",
      "Epoch 2/50\n",
      "844/844 [==============================] - 4s 5ms/step - loss: 0.2842 - accuracy: 0.8961 - val_loss: 0.2561 - val_accuracy: 0.9032\n",
      "Epoch 3/50\n",
      "844/844 [==============================] - 4s 5ms/step - loss: 0.2400 - accuracy: 0.9108 - val_loss: 0.2438 - val_accuracy: 0.9113\n",
      "Epoch 4/50\n",
      "844/844 [==============================] - 4s 5ms/step - loss: 0.2105 - accuracy: 0.9221 - val_loss: 0.2368 - val_accuracy: 0.9150\n",
      "Epoch 5/50\n",
      "844/844 [==============================] - 4s 5ms/step - loss: 0.1833 - accuracy: 0.9315 - val_loss: 0.2241 - val_accuracy: 0.9202\n",
      "Epoch 6/50\n",
      "844/844 [==============================] - 4s 5ms/step - loss: 0.1632 - accuracy: 0.9384 - val_loss: 0.2199 - val_accuracy: 0.9212\n",
      "Epoch 7/50\n",
      "844/844 [==============================] - 4s 5ms/step - loss: 0.1450 - accuracy: 0.9451 - val_loss: 0.2286 - val_accuracy: 0.9203\n",
      "Epoch 8/50\n",
      "844/844 [==============================] - 4s 5ms/step - loss: 0.1264 - accuracy: 0.9514 - val_loss: 0.2393 - val_accuracy: 0.9205\n",
      "Epoch 9/50\n",
      "844/844 [==============================] - 4s 5ms/step - loss: 0.1124 - accuracy: 0.9585 - val_loss: 0.2421 - val_accuracy: 0.9233\n",
      "Epoch 10/50\n",
      "844/844 [==============================] - 4s 5ms/step - loss: 0.0985 - accuracy: 0.9623 - val_loss: 0.2580 - val_accuracy: 0.9225\n",
      "Epoch 11/50\n",
      "844/844 [==============================] - 4s 5ms/step - loss: 0.0875 - accuracy: 0.9673 - val_loss: 0.2501 - val_accuracy: 0.9218\n",
      "Epoch 12/50\n",
      "844/844 [==============================] - 4s 5ms/step - loss: 0.0806 - accuracy: 0.9698 - val_loss: 0.2571 - val_accuracy: 0.9228\n",
      "Epoch 13/50\n",
      "844/844 [==============================] - 4s 5ms/step - loss: 0.0677 - accuracy: 0.9755 - val_loss: 0.3065 - val_accuracy: 0.9242\n",
      "Epoch 14/50\n",
      "844/844 [==============================] - 4s 5ms/step - loss: 0.0626 - accuracy: 0.9770 - val_loss: 0.3104 - val_accuracy: 0.9197\n",
      "Epoch 15/50\n",
      "844/844 [==============================] - 4s 5ms/step - loss: 0.0554 - accuracy: 0.9788 - val_loss: 0.3333 - val_accuracy: 0.9248\n",
      "Epoch 16/50\n",
      "844/844 [==============================] - 5s 6ms/step - loss: 0.0514 - accuracy: 0.9809 - val_loss: 0.3250 - val_accuracy: 0.9220\n",
      "Epoch 17/50\n",
      "844/844 [==============================] - 4s 5ms/step - loss: 0.0463 - accuracy: 0.9823 - val_loss: 0.3596 - val_accuracy: 0.9187\n",
      "Epoch 18/50\n",
      "844/844 [==============================] - 4s 5ms/step - loss: 0.0443 - accuracy: 0.9840 - val_loss: 0.3753 - val_accuracy: 0.9233\n",
      "Epoch 19/50\n",
      "844/844 [==============================] - 4s 5ms/step - loss: 0.0407 - accuracy: 0.9851 - val_loss: 0.3895 - val_accuracy: 0.9198\n",
      "Epoch 20/50\n",
      "844/844 [==============================] - 4s 5ms/step - loss: 0.0414 - accuracy: 0.9846 - val_loss: 0.4096 - val_accuracy: 0.9170\n",
      "Epoch 21/50\n",
      "844/844 [==============================] - 4s 5ms/step - loss: 0.0355 - accuracy: 0.9871 - val_loss: 0.4125 - val_accuracy: 0.9237\n",
      "Epoch 22/50\n",
      "844/844 [==============================] - 4s 5ms/step - loss: 0.0373 - accuracy: 0.9864 - val_loss: 0.4244 - val_accuracy: 0.9180\n",
      "Epoch 23/50\n",
      "844/844 [==============================] - 4s 5ms/step - loss: 0.0308 - accuracy: 0.9890 - val_loss: 0.4613 - val_accuracy: 0.9167\n",
      "Epoch 24/50\n",
      "844/844 [==============================] - 4s 5ms/step - loss: 0.0353 - accuracy: 0.9875 - val_loss: 0.4441 - val_accuracy: 0.9217\n",
      "Epoch 25/50\n",
      "844/844 [==============================] - 4s 5ms/step - loss: 0.0313 - accuracy: 0.9889 - val_loss: 0.4384 - val_accuracy: 0.9182\n",
      "Epoch 26/50\n",
      "844/844 [==============================] - 4s 5ms/step - loss: 0.0303 - accuracy: 0.9896 - val_loss: 0.4785 - val_accuracy: 0.9207\n",
      "Epoch 27/50\n",
      "844/844 [==============================] - 4s 5ms/step - loss: 0.0307 - accuracy: 0.9895 - val_loss: 0.4913 - val_accuracy: 0.9177\n",
      "Epoch 28/50\n",
      "844/844 [==============================] - 4s 5ms/step - loss: 0.0293 - accuracy: 0.9901 - val_loss: 0.5065 - val_accuracy: 0.9188\n",
      "Epoch 29/50\n",
      "844/844 [==============================] - 4s 5ms/step - loss: 0.0259 - accuracy: 0.9910 - val_loss: 0.5352 - val_accuracy: 0.9150\n",
      "Epoch 30/50\n",
      "844/844 [==============================] - 4s 5ms/step - loss: 0.0253 - accuracy: 0.9911 - val_loss: 0.5170 - val_accuracy: 0.9190\n",
      "Epoch 31/50\n",
      "844/844 [==============================] - 4s 5ms/step - loss: 0.0287 - accuracy: 0.9904 - val_loss: 0.5297 - val_accuracy: 0.9165\n",
      "Epoch 32/50\n",
      "844/844 [==============================] - 4s 5ms/step - loss: 0.0247 - accuracy: 0.9916 - val_loss: 0.5838 - val_accuracy: 0.9158\n",
      "Epoch 33/50\n",
      "844/844 [==============================] - 4s 5ms/step - loss: 0.0284 - accuracy: 0.9903 - val_loss: 0.5140 - val_accuracy: 0.9187\n",
      "Epoch 34/50\n",
      "844/844 [==============================] - 4s 5ms/step - loss: 0.0256 - accuracy: 0.9916 - val_loss: 0.5586 - val_accuracy: 0.9195\n",
      "Epoch 35/50\n",
      "844/844 [==============================] - 4s 5ms/step - loss: 0.0209 - accuracy: 0.9921 - val_loss: 0.6179 - val_accuracy: 0.9155\n",
      "Epoch 36/50\n",
      "844/844 [==============================] - 4s 5ms/step - loss: 0.0276 - accuracy: 0.9910 - val_loss: 0.5471 - val_accuracy: 0.9212\n",
      "Epoch 37/50\n",
      "844/844 [==============================] - 4s 5ms/step - loss: 0.0269 - accuracy: 0.9910 - val_loss: 0.5645 - val_accuracy: 0.9193\n",
      "Epoch 38/50\n",
      "844/844 [==============================] - 4s 5ms/step - loss: 0.0233 - accuracy: 0.9924 - val_loss: 0.6284 - val_accuracy: 0.9212\n",
      "Epoch 39/50\n",
      "844/844 [==============================] - 4s 5ms/step - loss: 0.0227 - accuracy: 0.9925 - val_loss: 0.6025 - val_accuracy: 0.9185\n",
      "Epoch 40/50\n",
      "844/844 [==============================] - 4s 5ms/step - loss: 0.0246 - accuracy: 0.9920 - val_loss: 0.5992 - val_accuracy: 0.9198\n",
      "Epoch 41/50\n",
      "844/844 [==============================] - 4s 5ms/step - loss: 0.0215 - accuracy: 0.9930 - val_loss: 0.6558 - val_accuracy: 0.9120\n",
      "Epoch 42/50\n",
      "844/844 [==============================] - 4s 5ms/step - loss: 0.0231 - accuracy: 0.9922 - val_loss: 0.7213 - val_accuracy: 0.9152\n",
      "Epoch 43/50\n",
      "844/844 [==============================] - 4s 5ms/step - loss: 0.0252 - accuracy: 0.9919 - val_loss: 0.6256 - val_accuracy: 0.9198\n",
      "Epoch 44/50\n",
      "844/844 [==============================] - 4s 5ms/step - loss: 0.0211 - accuracy: 0.9932 - val_loss: 0.6773 - val_accuracy: 0.9178\n",
      "Epoch 45/50\n",
      "844/844 [==============================] - 4s 5ms/step - loss: 0.0238 - accuracy: 0.9930 - val_loss: 0.6444 - val_accuracy: 0.9158\n",
      "Epoch 46/50\n",
      "844/844 [==============================] - 4s 5ms/step - loss: 0.0242 - accuracy: 0.9923 - val_loss: 0.6700 - val_accuracy: 0.9178\n",
      "Epoch 47/50\n",
      "844/844 [==============================] - 4s 5ms/step - loss: 0.0208 - accuracy: 0.9938 - val_loss: 0.6936 - val_accuracy: 0.9163\n",
      "Epoch 48/50\n",
      "844/844 [==============================] - 4s 5ms/step - loss: 0.0215 - accuracy: 0.9938 - val_loss: 0.6867 - val_accuracy: 0.9167\n",
      "Epoch 49/50\n",
      "844/844 [==============================] - 4s 5ms/step - loss: 0.0184 - accuracy: 0.9941 - val_loss: 0.7104 - val_accuracy: 0.9223\n",
      "Epoch 50/50\n",
      "844/844 [==============================] - 4s 5ms/step - loss: 0.0222 - accuracy: 0.9928 - val_loss: 0.6959 - val_accuracy: 0.9205\n",
      "\n",
      "--- 262.4302787780762 seconds ---\n",
      "313/313 [==============================] - 1s 3ms/step - loss: 0.7456 - accuracy: 0.9184\n",
      "Test results - Loss: 0.7455915212631226 - Accuracy: 0.91839998960495%\n"
     ]
    }
   ],
   "source": [
    "from keras.datasets import fashion_mnist\n",
    "(X_train, y_train), (X_test, y_test) = fashion_mnist.load_data()\n",
    "# print(X_train.shape)\n",
    "# print(y_train.shape)\n",
    "# print(X_test.shape)\n",
    "# print(y_test.shape)\n",
    "\n",
    "\n",
    "\n",
    "# Convert into greyscale\n",
    "X_train = X_train.astype('float32')\n",
    "X_test = X_test.astype('float32')\n",
    "X_train /= 255\n",
    "X_test /= 255\n",
    "\n",
    "\n",
    "num_classes = 10\n",
    "\n",
    "# Convert target classes to categorical ones\n",
    "y_train = to_categorical(y_train, num_classes)\n",
    "y_test = to_categorical(y_test, num_classes)\n",
    "\n",
    "\n",
    "# Create the model\n",
    "model = tf.keras.Sequential()\n",
    "\n",
    "model.add(tf.keras.layers.Conv2D(\n",
    "    filters=32, kernel_size=(5, 5),\n",
    "    strides=(1, 1), padding='same',\n",
    "    data_format='channels_last',\n",
    "    name='conv_1', activation='relu'))\n",
    "\n",
    "model.add(tf.keras.layers.MaxPool2D(\n",
    "    pool_size=(2, 2), name='pool_1'))\n",
    "    \n",
    "model.add(tf.keras.layers.Conv2D(\n",
    "    filters=64, kernel_size=(5, 5),\n",
    "    strides=(1, 1), padding='same',\n",
    "    name='conv_2', activation='relu'))\n",
    "\n",
    "model.add(tf.keras.layers.MaxPool2D(pool_size=(2, 2), name='pool_2'))\n",
    "\n",
    "model.compute_output_shape(input_shape=(16, 28, 28, 1))\n",
    "\n",
    "model.add(tf.keras.layers.Flatten())\n",
    "    \n",
    "model.compute_output_shape(input_shape=(16, 28, 28, 1))\n",
    "\n",
    "model.add(tf.keras.layers.Dense(\n",
    "    units=1024, name='fc_1', \n",
    "    activation='relu'))\n",
    "\n",
    "model.add(tf.keras.layers.Dropout(\n",
    "    rate=0.5))\n",
    "    \n",
    "model.add(tf.keras.layers.Dense(\n",
    "    units=10, name='fc_2',\n",
    "    activation='softmax'))\n",
    "\n",
    "tf.random.set_seed(1)\n",
    "model.build(input_shape=(None, 28, 28, 1))\n",
    "\n",
    "model.compute_output_shape(input_shape=(16, 28, 28, 1))\n",
    "\n",
    "\n",
    "\n",
    "\n",
    "# Configure the model and start training\n",
    "model.compile(loss='categorical_crossentropy', optimizer='adam', metrics=['accuracy'])\n",
    "\n",
    "import time\n",
    "start_time = time.time()\n",
    "\n",
    "\n",
    "history = model.fit(X_train, y_train, batch_size=64, epochs=50, verbose=1, validation_split=0.1)\n",
    "\n",
    "print()\n",
    "print(\"--- %s seconds ---\" % (time.time() - start_time))\n",
    "\n",
    "# model.fit(X_train, y_train, epochs=10, batch_size=250, verbose=1, validation_split=0.2)\n",
    "\n",
    "# Test the model after training\n",
    "test_results = model.evaluate(X_test, y_test, verbose=1)\n",
    "print(f'Test results - Loss: {test_results[0]} - Accuracy: {test_results[1]}%')"
   ]
  },
  {
   "cell_type": "code",
   "execution_count": 205,
   "metadata": {
    "colab": {
     "base_uri": "https://localhost:8080/"
    },
    "executionInfo": {
     "elapsed": 39,
     "status": "ok",
     "timestamp": 1674813569700,
     "user": {
      "displayName": "brayan rodrigeuz",
      "userId": "17180205494598195486"
     },
     "user_tz": -210
    },
    "id": "OkZ1p36OnmS5",
    "outputId": "af227124-236d-4393-f7f7-ae85413c3985"
   },
   "outputs": [
    {
     "name": "stdout",
     "output_type": "stream",
     "text": [
      "Model: \"sequential_5\"\n",
      "_________________________________________________________________\n",
      " Layer (type)                Output Shape              Param #   \n",
      "=================================================================\n",
      " conv_1 (Conv2D)             (None, 28, 28, 32)        832       \n",
      "                                                                 \n",
      " pool_1 (MaxPooling2D)       (None, 14, 14, 32)        0         \n",
      "                                                                 \n",
      " conv_2 (Conv2D)             (None, 14, 14, 64)        51264     \n",
      "                                                                 \n",
      " pool_2 (MaxPooling2D)       (None, 7, 7, 64)          0         \n",
      "                                                                 \n",
      " flatten_4 (Flatten)         (None, 3136)              0         \n",
      "                                                                 \n",
      " fc_1 (Dense)                (None, 1024)              3212288   \n",
      "                                                                 \n",
      " dropout_4 (Dropout)         (None, 1024)              0         \n",
      "                                                                 \n",
      " fc_2 (Dense)                (None, 10)                10250     \n",
      "                                                                 \n",
      "=================================================================\n",
      "Total params: 3,274,634\n",
      "Trainable params: 3,274,634\n",
      "Non-trainable params: 0\n",
      "_________________________________________________________________\n"
     ]
    }
   ],
   "source": [
    "model.summary()"
   ]
  },
  {
   "cell_type": "code",
   "execution_count": 206,
   "metadata": {
    "colab": {
     "base_uri": "https://localhost:8080/",
     "height": 286
    },
    "executionInfo": {
     "elapsed": 25,
     "status": "ok",
     "timestamp": 1674813569701,
     "user": {
      "displayName": "brayan rodrigeuz",
      "userId": "17180205494598195486"
     },
     "user_tz": -210
    },
    "id": "gtdhdmv2nkkO",
    "outputId": "0dbd1f14-93c6-4f1b-92b3-ac66cf13f0d2"
   },
   "outputs": [
    {
     "data": {
      "image/png": "[encoded data removed]",
      "text/plain": [
       "<Figure size 864x288 with 2 Axes>"
      ]
     },
     "metadata": {
      "needs_background": "light"
     },
     "output_type": "display_data"
    }
   ],
   "source": [
    "import numpy as np\n",
    "hist = history.history\n",
    "x_arr = np.arange(len(hist['loss'])) + 1\n",
    "\n",
    "fig = plt.figure(figsize=(12, 4))\n",
    "ax = fig.add_subplot(1, 2, 1)\n",
    "ax.plot(x_arr, hist['loss'], '-o', label='Train loss')\n",
    "ax.plot(x_arr, hist['val_loss'], '--<', label='Validation loss')\n",
    "ax.set_xlabel('Epoch', size=15)\n",
    "ax.set_ylabel('Loss', size=15)\n",
    "ax.legend(fontsize=15)\n",
    "ax = fig.add_subplot(1, 2, 2)\n",
    "ax.plot(x_arr, hist['accuracy'], '-o', label='Train acc.')\n",
    "ax.plot(x_arr, hist['val_accuracy'], '--<', label='Validation acc.')\n",
    "ax.legend(fontsize=15)\n",
    "ax.set_xlabel('Epoch', size=15)\n",
    "ax.set_ylabel('Accuracy', size=15)\n",
    "\n",
    "#plt.savefig('figures/15_12.png', dpi=300)\n",
    "plt.show()"
   ]
  },
  {
   "cell_type": "code",
   "execution_count": 207,
   "metadata": {
    "executionInfo": {
     "elapsed": 633,
     "status": "ok",
     "timestamp": 1674813570310,
     "user": {
      "displayName": "brayan rodrigeuz",
      "userId": "17180205494598195486"
     },
     "user_tz": -210
    },
    "id": "DGjhQVjZSQtP"
   },
   "outputs": [],
   "source": [
    "import numpy as np\n",
    "y_real = np.argmax(y_test , axis=1)\n",
    "y_pred = tf.argmax(model(X_test), axis=1).numpy()"
   ]
  },
  {
   "cell_type": "code",
   "execution_count": 207,
   "metadata": {
    "executionInfo": {
     "elapsed": 5,
     "status": "ok",
     "timestamp": 1674813570311,
     "user": {
      "displayName": "brayan rodrigeuz",
      "userId": "17180205494598195486"
     },
     "user_tz": -210
    },
    "id": "YnhXjR00GGTd"
   },
   "outputs": [],
   "source": []
  },
  {
   "cell_type": "markdown",
   "metadata": {
    "id": "N_Jw5Rj3Z7P1"
   },
   "source": [
    "## 2 sample of each object"
   ]
  },
  {
   "cell_type": "code",
   "execution_count": 208,
   "metadata": {
    "colab": {
     "base_uri": "https://localhost:8080/",
     "height": 1000
    },
    "executionInfo": {
     "elapsed": 3972,
     "status": "ok",
     "timestamp": 1674813574279,
     "user": {
      "displayName": "brayan rodrigeuz",
      "userId": "17180205494598195486"
     },
     "user_tz": -210
    },
    "id": "48A2BR7RSyuO",
    "outputId": "25724a1e-0126-49db-a86f-32e7f45a4403"
   },
   "outputs": [
    {
     "data": {
      "image/png": "[encoded data removed]",
      "text/plain": [
       "<Figure size 288x1080 with 20 Axes>"
      ]
     },
     "metadata": {
      "needs_background": "light"
     },
     "output_type": "display_data"
    }
   ],
   "source": [
    "fig, ax = plt.subplots(10, 2, sharex='col', sharey='row', figsize = (4,15))\n",
    "for obj in np.unique(y_real):\n",
    "  # print(obj)\n",
    "  indices = np.where(y_real==obj)[0][:2]\n",
    "\n",
    "  img1= X_test[indices[0]]\n",
    "  ax[obj , 0].imshow(img1, cmap='gray_r')\n",
    "  ax[obj , 0].title.set_text(f\"object {obj}\")\n",
    "\n",
    "  img2= X_test[indices[1]]\n",
    "  ax[obj , 1].imshow(img2, cmap='gray_r')\n",
    "  ax[obj , 1].title.set_text(f\"object {obj}\")\n",
    "plt.tight_layout()\n",
    "plt.show()"
   ]
  },
  {
   "cell_type": "code",
   "execution_count": 208,
   "metadata": {
    "executionInfo": {
     "elapsed": 30,
     "status": "ok",
     "timestamp": 1674813574279,
     "user": {
      "displayName": "brayan rodrigeuz",
      "userId": "17180205494598195486"
     },
     "user_tz": -210
    },
    "id": "8YU3gWkgSyrZ"
   },
   "outputs": [],
   "source": []
  },
  {
   "cell_type": "code",
   "execution_count": 208,
   "metadata": {
    "executionInfo": {
     "elapsed": 29,
     "status": "ok",
     "timestamp": 1674813574280,
     "user": {
      "displayName": "brayan rodrigeuz",
      "userId": "17180205494598195486"
     },
     "user_tz": -210
    },
    "id": "uYqsOqtHSyo_"
   },
   "outputs": [],
   "source": []
  },
  {
   "cell_type": "code",
   "execution_count": 208,
   "metadata": {
    "executionInfo": {
     "elapsed": 29,
     "status": "ok",
     "timestamp": 1674813574281,
     "user": {
      "displayName": "brayan rodrigeuz",
      "userId": "17180205494598195486"
     },
     "user_tz": -210
    },
    "id": "m3Wg7PHsSymW"
   },
   "outputs": [],
   "source": []
  },
  {
   "cell_type": "code",
   "execution_count": 208,
   "metadata": {
    "executionInfo": {
     "elapsed": 29,
     "status": "ok",
     "timestamp": 1674813574282,
     "user": {
      "displayName": "brayan rodrigeuz",
      "userId": "17180205494598195486"
     },
     "user_tz": -210
    },
    "id": "mQTwkOK-GGdz"
   },
   "outputs": [],
   "source": []
  },
  {
   "cell_type": "code",
   "execution_count": 209,
   "metadata": {
    "colab": {
     "base_uri": "https://localhost:8080/"
    },
    "executionInfo": {
     "elapsed": 29,
     "status": "ok",
     "timestamp": 1674813574282,
     "user": {
      "displayName": "brayan rodrigeuz",
      "userId": "17180205494598195486"
     },
     "user_tz": -210
    },
    "id": "DCt58mK7SQqz",
    "outputId": "b1d413d3-b393-4499-ebc8-fe056ada0a7e"
   },
   "outputs": [
    {
     "data": {
      "text/plain": [
       "816"
      ]
     },
     "execution_count": 209,
     "metadata": {},
     "output_type": "execute_result"
    }
   ],
   "source": [
    "wrong_pred = np.where(y_pred != y_real)\n",
    "len(wrong_pred[0])"
   ]
  },
  {
   "cell_type": "code",
   "execution_count": 209,
   "metadata": {
    "executionInfo": {
     "elapsed": 25,
     "status": "ok",
     "timestamp": 1674813574283,
     "user": {
      "displayName": "brayan rodrigeuz",
      "userId": "17180205494598195486"
     },
     "user_tz": -210
    },
    "id": "DlSTuzc_SQn6"
   },
   "outputs": [],
   "source": []
  },
  {
   "cell_type": "markdown",
   "metadata": {
    "id": "ZWp3sdebie8W"
   },
   "source": [
    "## Wrong predicted"
   ]
  },
  {
   "cell_type": "code",
   "execution_count": 210,
   "metadata": {
    "colab": {
     "base_uri": "https://localhost:8080/",
     "height": 1000
    },
    "executionInfo": {
     "elapsed": 3916,
     "status": "ok",
     "timestamp": 1674813578175,
     "user": {
      "displayName": "brayan rodrigeuz",
      "userId": "17180205494598195486"
     },
     "user_tz": -210
    },
    "id": "BSYyxkOsvHNQ",
    "outputId": "1a62d8fe-1b1e-4f70-e618-030bbd8f5874"
   },
   "outputs": [
    {
     "data": {
      "image/png": "[encoded data removed]",
      "text/plain": [
       "<Figure size 288x1080 with 20 Axes>"
      ]
     },
     "metadata": {
      "needs_background": "light"
     },
     "output_type": "display_data"
    }
   ],
   "source": [
    "fig, ax = plt.subplots(10, 2, sharex='col', sharey='row', figsize = (4,15))\n",
    "for obj in np.unique(y_real):\n",
    "  # print(obj)\n",
    "  ind_obj = np.where(y_pred==obj)[0]\n",
    "  wrong_ind = np.where(y_real[ind_obj]!=obj)\n",
    "  indices = ind_obj[wrong_ind][:2]\n",
    "  # print(indices)\n",
    "\n",
    "  img1= X_test[indices[0]]\n",
    "  ax[obj , 0].imshow(img1, cmap='gray_r')\n",
    "  ax[obj , 0].title.set_text(f\"predicted {obj}\\nreal {y_real[indices[0]]}\")\n",
    "\n",
    "  img2= X_test[indices[1]]\n",
    "  ax[obj , 1].imshow(img2, cmap='gray_r')\n",
    "  ax[obj , 1].title.set_text(f\"predicted {obj}\\nreal {y_real[indices[1]]}\")\n",
    "\n",
    "plt.tight_layout()\n",
    "plt.show()"
   ]
  },
  {
   "cell_type": "code",
   "execution_count": 211,
   "metadata": {
    "executionInfo": {
     "elapsed": 21,
     "status": "ok",
     "timestamp": 1674813578176,
     "user": {
      "displayName": "brayan rodrigeuz",
      "userId": "17180205494598195486"
     },
     "user_tz": -210
    },
    "id": "bJjBkjHkfF56"
   },
   "outputs": [],
   "source": [
    "# import matplotlib.pyplot as plt\n",
    "# fig = plt.figure(figsize=(12, 4))\n",
    "# for i in range(12):\n",
    "#     ax = fig.add_subplot(2, 6, i+1)\n",
    "#     ax.set_xticks([]); ax.set_yticks([])\n",
    "#     img = X_test[wrong_pred[0][i]]\n",
    "#     ax.imshow(img, cmap='gray_r')\n",
    "#     ax.text(0.9, 0.1, '{}'.format(y_pred[wrong_pred[0][i]]), \n",
    "#             size=15, color='blue',\n",
    "#             horizontalalignment='center',\n",
    "#             verticalalignment='center', \n",
    "#             transform=ax.transAxes)\n",
    "    \n",
    "# #plt.savefig('figures/15_13.png', dpi=300)\n",
    "# plt.show()"
   ]
  },
  {
   "cell_type": "code",
   "execution_count": 212,
   "metadata": {
    "executionInfo": {
     "elapsed": 22,
     "status": "ok",
     "timestamp": 1674813578177,
     "user": {
      "displayName": "brayan rodrigeuz",
      "userId": "17180205494598195486"
     },
     "user_tz": -210
    },
    "id": "FcglkuHifEQi"
   },
   "outputs": [],
   "source": [
    "# print(\"real class    predicted class\")\n",
    "# for i in range(12):\n",
    "#   print( \"    \"  ,y_real[wrong_pred[0][i]] , \"          \"  ,y_pred[wrong_pred[0][i]])"
   ]
  },
  {
   "cell_type": "code",
   "execution_count": 213,
   "metadata": {
    "executionInfo": {
     "elapsed": 3,
     "status": "ok",
     "timestamp": 1674813614650,
     "user": {
      "displayName": "brayan rodrigeuz",
      "userId": "17180205494598195486"
     },
     "user_tz": -210
    },
    "id": "_UxJaWmivHPr"
   },
   "outputs": [],
   "source": []
  },
  {
   "cell_type": "code",
   "execution_count": 213,
   "metadata": {
    "executionInfo": {
     "elapsed": 530,
     "status": "ok",
     "timestamp": 1674813621878,
     "user": {
      "displayName": "brayan rodrigeuz",
      "userId": "17180205494598195486"
     },
     "user_tz": -210
    },
    "id": "8SsuzklzvHSs"
   },
   "outputs": [],
   "source": []
  },
  {
   "cell_type": "markdown",
   "metadata": {
    "id": "upyaZdexEfQu"
   },
   "source": [
    "## precision , recall , f1_score , confusion matrix"
   ]
  },
  {
   "cell_type": "markdown",
   "metadata": {
    "id": "gXy5BHyYFPF_"
   },
   "source": [
    "### Optimizing the precision and recall of a classification model "
   ]
  },
  {
   "cell_type": "markdown",
   "metadata": {
    "id": "iCqeWxJWFEsN"
   },
   "source": [
    "Both the prediction error (ERR) and accuracy (ACC) provide general information about how many examples\\n are misclassified. The error can be understood as the sum of all false predictions divided by the number of total predictions, and the accuracy is calculated as the sum of correct predictions divided by the total number of predictions, respectively:\n"
   ]
  },
  {
   "cell_type": "markdown",
   "metadata": {
    "id": "OVRe_7sVH3Ou"
   },
   "source": [
    "ERR = (FP +FN)/(FP+FN+TP+TN)"
   ]
  },
  {
   "cell_type": "markdown",
   "metadata": {
    "id": "vF0xoUu9H3A6"
   },
   "source": [
    "The prediction accuracy can then be calculated directly from the error:"
   ]
  },
  {
   "cell_type": "markdown",
   "metadata": {
    "id": "N29LQTFiIR08"
   },
   "source": [
    "ACC = (TP+FN)/(FP+FN+TP+TN) = 1 - ERR"
   ]
  },
  {
   "cell_type": "markdown",
   "metadata": {
    "id": "1RJSimJ4IRtm"
   },
   "source": [
    "The true positive rate (TPR) and false positive rate (FPR) are performance metrics that are especially useful for imbalanced class problems:"
   ]
  },
  {
   "cell_type": "markdown",
   "metadata": {
    "id": "IsBRsOAaIRyI"
   },
   "source": [
    "FPR = FP/N = FP/(FP+TN)\n",
    "\n",
    "TPR = TP/P = TP/(FN+TP)"
   ]
  },
  {
   "cell_type": "markdown",
   "metadata": {
    "id": "dVwjUOHZI6Vz"
   },
   "source": [
    "In tumor diagnosis, for example, we are more concerned about the detection of malignant tumors in order to help a patient with the appropriate treatment. However, it is also important to decrease the number of benign tumors incorrectly classified as malignant (FP) to not unnecessarily concern patients. In contrast to theFPR, the TPR provides useful information about the fraction of positive (or relevant examples that were correctly identified out of the total pool of positives (P).\n",
    "\n",
    "The performance metrics precision (PRE) and recall (REC) are related to those TP and TN rates, and in fact, REC is synonymous with TPR:"
   ]
  },
  {
   "cell_type": "markdown",
   "metadata": {
    "id": "m9LFu-VcJepX"
   },
   "source": [
    "PRE = TP/(TP+FP)\n",
    "\n",
    "REC = TPR = TP/P = TP/(FN+TP)"
   ]
  },
  {
   "cell_type": "markdown",
   "metadata": {
    "id": "ZbDHtwSEJ3xu"
   },
   "source": [
    "Revisiting the malignant tumor detection example, optimizing for recall helps with minimizing the chance of not detecting a malignant tumor. However, this comes at the cost of predicting malignant tumors in patients although the patients are healthy (a high number of FP). If we optimize for precision, on the other hand, we emphasize correctness if we predict that a patient has a malignant tumor. However, this comes at the cost of missing malignant tumors more frequently (a high number of FN). \n",
    "\n",
    "To balance the up- and down-sides of optimizing PRE and REC, often a combination of PRE and REC is used, the so-called F1 score:"
   ]
  },
  {
   "cell_type": "markdown",
   "metadata": {
    "id": "4mE5KR1QJ3u3"
   },
   "source": [
    "F1 = 2(PRE * REC)/(PRE + REC)"
   ]
  },
  {
   "cell_type": "code",
   "execution_count": 214,
   "metadata": {
    "colab": {
     "base_uri": "https://localhost:8080/"
    },
    "executionInfo": {
     "elapsed": 4,
     "status": "ok",
     "timestamp": 1674813627070,
     "user": {
      "displayName": "brayan rodrigeuz",
      "userId": "17180205494598195486"
     },
     "user_tz": -210
    },
    "id": "IJxtHvDxEdCK",
    "outputId": "d7a7f036-4731-4c22-e06d-66a774c8d961"
   },
   "outputs": [
    {
     "name": "stdout",
     "output_type": "stream",
     "text": [
      "Precision: 0.918\n",
      "Recall: 0.918\n",
      "F1: 0.918\n"
     ]
    }
   ],
   "source": [
    "from sklearn.metrics import precision_score\n",
    "from sklearn.metrics import recall_score, f1_score\n",
    "print('Precision: %.3f' % precision_score( y_true=y_real, y_pred=y_pred ,  average='macro'))\n",
    "\n",
    "print('Recall: %.3f' % recall_score(y_true=y_real, y_pred=y_pred ,  average='macro'))\n",
    "\n",
    "print('F1: %.3f' % f1_score(y_true=y_real, y_pred=y_pred ,  average='macro'))"
   ]
  },
  {
   "cell_type": "code",
   "execution_count": 214,
   "metadata": {
    "executionInfo": {
     "elapsed": 3,
     "status": "ok",
     "timestamp": 1674813627071,
     "user": {
      "displayName": "brayan rodrigeuz",
      "userId": "17180205494598195486"
     },
     "user_tz": -210
    },
    "id": "_1Y31VDIEc8X"
   },
   "outputs": [],
   "source": []
  },
  {
   "cell_type": "code",
   "execution_count": 214,
   "metadata": {
    "executionInfo": {
     "elapsed": 3,
     "status": "ok",
     "timestamp": 1674813627595,
     "user": {
      "displayName": "brayan rodrigeuz",
      "userId": "17180205494598195486"
     },
     "user_tz": -210
    },
    "id": "9WS2ZAsaEc5t"
   },
   "outputs": [],
   "source": []
  },
  {
   "cell_type": "markdown",
   "metadata": {
    "id": "0XGm_c95wnNS"
   },
   "source": [
    "# confusion_matrix"
   ]
  },
  {
   "cell_type": "code",
   "execution_count": 215,
   "metadata": {
    "colab": {
     "base_uri": "https://localhost:8080/",
     "height": 523
    },
    "executionInfo": {
     "elapsed": 907,
     "status": "ok",
     "timestamp": 1674813629043,
     "user": {
      "displayName": "brayan rodrigeuz",
      "userId": "17180205494598195486"
     },
     "user_tz": -210
    },
    "id": "WDtZXlzdSQlg",
    "outputId": "69fc8acf-b8bc-4f13-9b39-5d08f1892367"
   },
   "outputs": [
    {
     "data": {
      "text/plain": [
       "Text(69.0, 0.5, 'True classes')"
      ]
     },
     "execution_count": 215,
     "metadata": {},
     "output_type": "execute_result"
    },
    {
     "data": {
      "image/png": "[encoded data removed]",
      "text/plain": [
       "<Figure size 720x576 with 2 Axes>"
      ]
     },
     "metadata": {
      "needs_background": "light"
     },
     "output_type": "display_data"
    }
   ],
   "source": [
    "from sklearn.metrics import confusion_matrix\n",
    "import matplotlib.pyplot as plt\n",
    "import seaborn as sns\n",
    "\n",
    "conf_mat = confusion_matrix(y_real, y_pred)\n",
    "\n",
    "plt.figure(figsize = (10,8))\n",
    "sns.heatmap(conf_mat, linewidths = 0.1, cmap = 'Greens', linecolor = 'gray', \n",
    "            fmt = '.1f', annot = True)\n",
    "plt.xlabel('Predicted classes', fontsize = 20)\n",
    "plt.ylabel('True classes', fontsize = 20)"
   ]
  },
  {
   "cell_type": "code",
   "execution_count": null,
   "metadata": {
    "executionInfo": {
     "elapsed": 26,
     "status": "aborted",
     "timestamp": 1674813578185,
     "user": {
      "displayName": "brayan rodrigeuz",
      "userId": "17180205494598195486"
     },
     "user_tz": -210
    },
    "id": "EdSZxdbAN98R"
   },
   "outputs": [],
   "source": [
    "\n"
   ]
  },
  {
   "cell_type": "code",
   "execution_count": 50,
   "metadata": {
    "executionInfo": {
     "elapsed": 5,
     "status": "ok",
     "timestamp": 1674806359516,
     "user": {
      "displayName": "brayan rodrigeuz",
      "userId": "17180205494598195486"
     },
     "user_tz": -210
    },
    "id": "bWe9dHrzhqg3"
   },
   "outputs": [],
   "source": []
  },
  {
   "cell_type": "code",
   "execution_count": 60,
   "metadata": {
    "executionInfo": {
     "elapsed": 5,
     "status": "ok",
     "timestamp": 1674806665485,
     "user": {
      "displayName": "brayan rodrigeuz",
      "userId": "17180205494598195486"
     },
     "user_tz": -210
    },
    "id": "u6Xljh3HPEzp"
   },
   "outputs": [],
   "source": []
  },
  {
   "cell_type": "code",
   "execution_count": null,
   "metadata": {
    "id": "MYksmIL_PEww"
   },
   "outputs": [],
   "source": []
  },
  {
   "cell_type": "code",
   "execution_count": null,
   "metadata": {
    "id": "-sblBhocPEt5"
   },
   "outputs": [],
   "source": []
  }
 ],
 "metadata": {
  "accelerator": "GPU",
  "colab": {
   "authorship_tag": "ABX9TyOU+7gGMvVtFznA+5zc2EoW",
   "provenance": []
  },
  "gpuClass": "standard",
  "kernelspec": {
   "display_name": "Python 3 (ipykernel)",
   "language": "python",
   "name": "python3"
  },
  "language_info": {
   "codemirror_mode": {
    "name": "ipython",
    "version": 3
   },
   "file_extension": ".py",
   "mimetype": "text/x-python",
   "name": "python",
   "nbconvert_exporter": "python",
   "pygments_lexer": "ipython3",
   "version": "3.9.12"
  },
  "widgets": {
   "application/vnd.jupyter.widget-state+json": {
    "000574793ad64cb99bf97ea86c403916": {
     "model_module": "@jupyter-widgets/controls",
     "model_module_version": "1.5.0",
     "model_name": "DescriptionStyleModel",
     "state": {
      "_model_module": "@jupyter-widgets/controls",
      "_model_module_version": "1.5.0",
      "_model_name": "DescriptionStyleModel",
      "_view_count": null,
      "_view_module": "@jupyter-widgets/base",
      "_view_module_version": "1.2.0",
      "_view_name": "StyleView",
      "description_width": ""
     }
    },
    "001a318382844d7eb1d80ee8bc650166": {
     "model_module": "@jupyter-widgets/controls",
     "model_module_version": "1.5.0",
     "model_name": "ProgressStyleModel",
     "state": {
      "_model_module": "@jupyter-widgets/controls",
      "_model_module_version": "1.5.0",
      "_model_name": "ProgressStyleModel",
      "_view_count": null,
      "_view_module": "@jupyter-widgets/base",
      "_view_module_version": "1.2.0",
      "_view_name": "StyleView",
      "bar_color": null,
      "description_width": ""
     }
    },
    "0240e5c769104a0c913b9e0dc7429172": {
     "model_module": "@jupyter-widgets/controls",
     "model_module_version": "1.5.0",
     "model_name": "FloatProgressModel",
     "state": {
      "_dom_classes": [],
      "_model_module": "@jupyter-widgets/controls",
      "_model_module_version": "1.5.0",
      "_model_name": "FloatProgressModel",
      "_view_count": null,
      "_view_module": "@jupyter-widgets/controls",
      "_view_module_version": "1.5.0",
      "_view_name": "ProgressView",
      "bar_style": "",
      "description": "",
      "description_tooltip": null,
      "layout": "IPY_MODEL_50c17e33cf884aa0a4fecc662d92e8fc",
      "max": 10000,
      "min": 0,
      "orientation": "horizontal",
      "style": "IPY_MODEL_0e9fbb4a2f7c45769bbf2cb6dff65d91",
      "value": 10000
     }
    },
    "041d44d95a604b689ba5830ac150385b": {
     "model_module": "@jupyter-widgets/controls",
     "model_module_version": "1.5.0",
     "model_name": "DescriptionStyleModel",
     "state": {
      "_model_module": "@jupyter-widgets/controls",
      "_model_module_version": "1.5.0",
      "_model_name": "DescriptionStyleModel",
      "_view_count": null,
      "_view_module": "@jupyter-widgets/base",
      "_view_module_version": "1.2.0",
      "_view_name": "StyleView",
      "description_width": ""
     }
    },
    "0b66cd45a20741889c4f40a64fc8e7a4": {
     "model_module": "@jupyter-widgets/base",
     "model_module_version": "1.2.0",
     "model_name": "LayoutModel",
     "state": {
      "_model_module": "@jupyter-widgets/base",
      "_model_module_version": "1.2.0",
      "_model_name": "LayoutModel",
      "_view_count": null,
      "_view_module": "@jupyter-widgets/base",
      "_view_module_version": "1.2.0",
      "_view_name": "LayoutView",
      "align_content": null,
      "align_items": null,
      "align_self": null,
      "border": null,
      "bottom": null,
      "display": null,
      "flex": null,
      "flex_flow": null,
      "grid_area": null,
      "grid_auto_columns": null,
      "grid_auto_flow": null,
      "grid_auto_rows": null,
      "grid_column": null,
      "grid_gap": null,
      "grid_row": null,
      "grid_template_areas": null,
      "grid_template_columns": null,
      "grid_template_rows": null,
      "height": null,
      "justify_content": null,
      "justify_items": null,
      "left": null,
      "margin": null,
      "max_height": null,
      "max_width": null,
      "min_height": null,
      "min_width": null,
      "object_fit": null,
      "object_position": null,
      "order": null,
      "overflow": null,
      "overflow_x": null,
      "overflow_y": null,
      "padding": null,
      "right": null,
      "top": null,
      "visibility": null,
      "width": null
     }
    },
    "0bba38f9b10b47d987f9a3227604bc6c": {
     "model_module": "@jupyter-widgets/controls",
     "model_module_version": "1.5.0",
     "model_name": "HBoxModel",
     "state": {
      "_dom_classes": [],
      "_model_module": "@jupyter-widgets/controls",
      "_model_module_version": "1.5.0",
      "_model_name": "HBoxModel",
      "_view_count": null,
      "_view_module": "@jupyter-widgets/controls",
      "_view_module_version": "1.5.0",
      "_view_name": "HBoxView",
      "box_style": "",
      "children": [
       "IPY_MODEL_5d5ada16c08141ccb762f8391ca5d41d",
       "IPY_MODEL_a4b16648ee3b40459b356dace846b8cc",
       "IPY_MODEL_d8dc48f640e64fb09e47ed19fda41cb9"
      ],
      "layout": "IPY_MODEL_2d260e3d682849ae812acf4cbe9d8998"
     }
    },
    "0e9fbb4a2f7c45769bbf2cb6dff65d91": {
     "model_module": "@jupyter-widgets/controls",
     "model_module_version": "1.5.0",
     "model_name": "ProgressStyleModel",
     "state": {
      "_model_module": "@jupyter-widgets/controls",
      "_model_module_version": "1.5.0",
      "_model_name": "ProgressStyleModel",
      "_view_count": null,
      "_view_module": "@jupyter-widgets/base",
      "_view_module_version": "1.2.0",
      "_view_name": "StyleView",
      "bar_color": null,
      "description_width": ""
     }
    },
    "171a2f64673f4d7b95c33e31adb48a79": {
     "model_module": "@jupyter-widgets/controls",
     "model_module_version": "1.5.0",
     "model_name": "HTMLModel",
     "state": {
      "_dom_classes": [],
      "_model_module": "@jupyter-widgets/controls",
      "_model_module_version": "1.5.0",
      "_model_name": "HTMLModel",
      "_view_count": null,
      "_view_module": "@jupyter-widgets/controls",
      "_view_module_version": "1.5.0",
      "_view_name": "HTMLView",
      "description": "",
      "description_tooltip": null,
      "layout": "IPY_MODEL_8b168ceacbbd443f9eec7fb9b042b1ae",
      "placeholder": "​",
      "style": "IPY_MODEL_e7495949abd2437991c0957bd3bcb31b",
      "value": "Generating splits...: 100%"
     }
    },
    "19bb6bc8ea5043e2aa0535a2160845ef": {
     "model_module": "@jupyter-widgets/base",
     "model_module_version": "1.2.0",
     "model_name": "LayoutModel",
     "state": {
      "_model_module": "@jupyter-widgets/base",
      "_model_module_version": "1.2.0",
      "_model_name": "LayoutModel",
      "_view_count": null,
      "_view_module": "@jupyter-widgets/base",
      "_view_module_version": "1.2.0",
      "_view_name": "LayoutView",
      "align_content": null,
      "align_items": null,
      "align_self": null,
      "border": null,
      "bottom": null,
      "display": null,
      "flex": null,
      "flex_flow": null,
      "grid_area": null,
      "grid_auto_columns": null,
      "grid_auto_flow": null,
      "grid_auto_rows": null,
      "grid_column": null,
      "grid_gap": null,
      "grid_row": null,
      "grid_template_areas": null,
      "grid_template_columns": null,
      "grid_template_rows": null,
      "height": null,
      "justify_content": null,
      "justify_items": null,
      "left": null,
      "margin": null,
      "max_height": null,
      "max_width": null,
      "min_height": null,
      "min_width": null,
      "object_fit": null,
      "object_position": null,
      "order": null,
      "overflow": null,
      "overflow_x": null,
      "overflow_y": null,
      "padding": null,
      "right": null,
      "top": null,
      "visibility": null,
      "width": null
     }
    },
    "19feb2b44b5a4a28a899acabc28dc464": {
     "model_module": "@jupyter-widgets/base",
     "model_module_version": "1.2.0",
     "model_name": "LayoutModel",
     "state": {
      "_model_module": "@jupyter-widgets/base",
      "_model_module_version": "1.2.0",
      "_model_name": "LayoutModel",
      "_view_count": null,
      "_view_module": "@jupyter-widgets/base",
      "_view_module_version": "1.2.0",
      "_view_name": "LayoutView",
      "align_content": null,
      "align_items": null,
      "align_self": null,
      "border": null,
      "bottom": null,
      "display": null,
      "flex": null,
      "flex_flow": null,
      "grid_area": null,
      "grid_auto_columns": null,
      "grid_auto_flow": null,
      "grid_auto_rows": null,
      "grid_column": null,
      "grid_gap": null,
      "grid_row": null,
      "grid_template_areas": null,
      "grid_template_columns": null,
      "grid_template_rows": null,
      "height": null,
      "justify_content": null,
      "justify_items": null,
      "left": null,
      "margin": null,
      "max_height": null,
      "max_width": null,
      "min_height": null,
      "min_width": null,
      "object_fit": null,
      "object_position": null,
      "order": null,
      "overflow": null,
      "overflow_x": null,
      "overflow_y": null,
      "padding": null,
      "right": null,
      "top": null,
      "visibility": null,
      "width": null
     }
    },
    "1a8fbc40edbf4d25bea4ee326dfe146c": {
     "model_module": "@jupyter-widgets/controls",
     "model_module_version": "1.5.0",
     "model_name": "HTMLModel",
     "state": {
      "_dom_classes": [],
      "_model_module": "@jupyter-widgets/controls",
      "_model_module_version": "1.5.0",
      "_model_name": "HTMLModel",
      "_view_count": null,
      "_view_module": "@jupyter-widgets/controls",
      "_view_module_version": "1.5.0",
      "_view_name": "HTMLView",
      "description": "",
      "description_tooltip": null,
      "layout": "IPY_MODEL_986dc71c2c1047b09b66b557e81bcc58",
      "placeholder": "​",
      "style": "IPY_MODEL_041d44d95a604b689ba5830ac150385b",
      "value": "Shuffling /root/tensorflow_datasets/fashion_mnist/3.0.1.incompleteD16QBL/fashion_mnist-test.tfrecord*...:   0%"
     }
    },
    "1bdc65a9a463471b92dbce0714564f23": {
     "model_module": "@jupyter-widgets/controls",
     "model_module_version": "1.5.0",
     "model_name": "HTMLModel",
     "state": {
      "_dom_classes": [],
      "_model_module": "@jupyter-widgets/controls",
      "_model_module_version": "1.5.0",
      "_model_name": "HTMLModel",
      "_view_count": null,
      "_view_module": "@jupyter-widgets/controls",
      "_view_module_version": "1.5.0",
      "_view_name": "HTMLView",
      "description": "",
      "description_tooltip": null,
      "layout": "IPY_MODEL_854e8b88a11744c79c5ed3370c5655a4",
      "placeholder": "​",
      "style": "IPY_MODEL_8418df10625240d0b65252b67ab01c82",
      "value": " 59927/60000 [00:36&lt;00:00, 1676.17 examples/s]"
     }
    },
    "1c7b93ff9bba4fda86ce7a5f528cbaa6": {
     "model_module": "@jupyter-widgets/base",
     "model_module_version": "1.2.0",
     "model_name": "LayoutModel",
     "state": {
      "_model_module": "@jupyter-widgets/base",
      "_model_module_version": "1.2.0",
      "_model_name": "LayoutModel",
      "_view_count": null,
      "_view_module": "@jupyter-widgets/base",
      "_view_module_version": "1.2.0",
      "_view_name": "LayoutView",
      "align_content": null,
      "align_items": null,
      "align_self": null,
      "border": null,
      "bottom": null,
      "display": null,
      "flex": null,
      "flex_flow": null,
      "grid_area": null,
      "grid_auto_columns": null,
      "grid_auto_flow": null,
      "grid_auto_rows": null,
      "grid_column": null,
      "grid_gap": null,
      "grid_row": null,
      "grid_template_areas": null,
      "grid_template_columns": null,
      "grid_template_rows": null,
      "height": null,
      "justify_content": null,
      "justify_items": null,
      "left": null,
      "margin": null,
      "max_height": null,
      "max_width": null,
      "min_height": null,
      "min_width": null,
      "object_fit": null,
      "object_position": null,
      "order": null,
      "overflow": null,
      "overflow_x": null,
      "overflow_y": null,
      "padding": null,
      "right": null,
      "top": null,
      "visibility": null,
      "width": null
     }
    },
    "1d5d34b0f6974946a4dff15722280b20": {
     "model_module": "@jupyter-widgets/controls",
     "model_module_version": "1.5.0",
     "model_name": "DescriptionStyleModel",
     "state": {
      "_model_module": "@jupyter-widgets/controls",
      "_model_module_version": "1.5.0",
      "_model_name": "DescriptionStyleModel",
      "_view_count": null,
      "_view_module": "@jupyter-widgets/base",
      "_view_module_version": "1.2.0",
      "_view_name": "StyleView",
      "description_width": ""
     }
    },
    "1f67f8e8e71c413aab843e663f95cf48": {
     "model_module": "@jupyter-widgets/controls",
     "model_module_version": "1.5.0",
     "model_name": "HTMLModel",
     "state": {
      "_dom_classes": [],
      "_model_module": "@jupyter-widgets/controls",
      "_model_module_version": "1.5.0",
      "_model_name": "HTMLModel",
      "_view_count": null,
      "_view_module": "@jupyter-widgets/controls",
      "_view_module_version": "1.5.0",
      "_view_name": "HTMLView",
      "description": "",
      "description_tooltip": null,
      "layout": "IPY_MODEL_81ae9acf660848029d6b8250d6cb7b8a",
      "placeholder": "​",
      "style": "IPY_MODEL_d548b45431f14476ae2651ea0a99c4e9",
      "value": " 4/4 [00:04&lt;00:00,  1.14s/ url]"
     }
    },
    "1f9f04b78b3d4ba280af3511b91d1026": {
     "model_module": "@jupyter-widgets/controls",
     "model_module_version": "1.5.0",
     "model_name": "ProgressStyleModel",
     "state": {
      "_model_module": "@jupyter-widgets/controls",
      "_model_module_version": "1.5.0",
      "_model_name": "ProgressStyleModel",
      "_view_count": null,
      "_view_module": "@jupyter-widgets/base",
      "_view_module_version": "1.2.0",
      "_view_name": "StyleView",
      "bar_color": null,
      "description_width": ""
     }
    },
    "21d2124d1a8f45ebaacd3718ce89fd7c": {
     "model_module": "@jupyter-widgets/controls",
     "model_module_version": "1.5.0",
     "model_name": "ProgressStyleModel",
     "state": {
      "_model_module": "@jupyter-widgets/controls",
      "_model_module_version": "1.5.0",
      "_model_name": "ProgressStyleModel",
      "_view_count": null,
      "_view_module": "@jupyter-widgets/base",
      "_view_module_version": "1.2.0",
      "_view_name": "StyleView",
      "bar_color": null,
      "description_width": ""
     }
    },
    "24d0db5e966f42ff944c6da380977803": {
     "model_module": "@jupyter-widgets/controls",
     "model_module_version": "1.5.0",
     "model_name": "DescriptionStyleModel",
     "state": {
      "_model_module": "@jupyter-widgets/controls",
      "_model_module_version": "1.5.0",
      "_model_name": "DescriptionStyleModel",
      "_view_count": null,
      "_view_module": "@jupyter-widgets/base",
      "_view_module_version": "1.2.0",
      "_view_name": "StyleView",
      "description_width": ""
     }
    },
    "26e84030a0e1434592a3b35d14a81009": {
     "model_module": "@jupyter-widgets/controls",
     "model_module_version": "1.5.0",
     "model_name": "HBoxModel",
     "state": {
      "_dom_classes": [],
      "_model_module": "@jupyter-widgets/controls",
      "_model_module_version": "1.5.0",
      "_model_name": "HBoxModel",
      "_view_count": null,
      "_view_module": "@jupyter-widgets/controls",
      "_view_module_version": "1.5.0",
      "_view_name": "HBoxView",
      "box_style": "",
      "children": [
       "IPY_MODEL_f38df8ba4ae24785a9331f7c0079b03f",
       "IPY_MODEL_6a29bed67bcb4884bbe57493a98ee8e9",
       "IPY_MODEL_1f67f8e8e71c413aab843e663f95cf48"
      ],
      "layout": "IPY_MODEL_78f8062951ab4097b7dfa893f9d155f6"
     }
    },
    "2b388cf5d7d447979e50f33f3051d965": {
     "model_module": "@jupyter-widgets/controls",
     "model_module_version": "1.5.0",
     "model_name": "HBoxModel",
     "state": {
      "_dom_classes": [],
      "_model_module": "@jupyter-widgets/controls",
      "_model_module_version": "1.5.0",
      "_model_name": "HBoxModel",
      "_view_count": null,
      "_view_module": "@jupyter-widgets/controls",
      "_view_module_version": "1.5.0",
      "_view_name": "HBoxView",
      "box_style": "",
      "children": [
       "IPY_MODEL_1a8fbc40edbf4d25bea4ee326dfe146c",
       "IPY_MODEL_0240e5c769104a0c913b9e0dc7429172",
       "IPY_MODEL_d963b9ccdb9e4ae2a07308a9b80670c6"
      ],
      "layout": "IPY_MODEL_319280a2afb8432f9c7cf17c21208763"
     }
    },
    "2b3b4d93df554b2ab58dd01167efe671": {
     "model_module": "@jupyter-widgets/controls",
     "model_module_version": "1.5.0",
     "model_name": "HTMLModel",
     "state": {
      "_dom_classes": [],
      "_model_module": "@jupyter-widgets/controls",
      "_model_module_version": "1.5.0",
      "_model_name": "HTMLModel",
      "_view_count": null,
      "_view_module": "@jupyter-widgets/controls",
      "_view_module_version": "1.5.0",
      "_view_name": "HTMLView",
      "description": "",
      "description_tooltip": null,
      "layout": "IPY_MODEL_745940dd4d4e44d7b862ff259c2b131f",
      "placeholder": "​",
      "style": "IPY_MODEL_b2ced8ca17e74345bdf58812367d1fa2",
      "value": " 4/4 [00:04&lt;00:00,  1.27s/ file]"
     }
    },
    "2d260e3d682849ae812acf4cbe9d8998": {
     "model_module": "@jupyter-widgets/base",
     "model_module_version": "1.2.0",
     "model_name": "LayoutModel",
     "state": {
      "_model_module": "@jupyter-widgets/base",
      "_model_module_version": "1.2.0",
      "_model_name": "LayoutModel",
      "_view_count": null,
      "_view_module": "@jupyter-widgets/base",
      "_view_module_version": "1.2.0",
      "_view_name": "LayoutView",
      "align_content": null,
      "align_items": null,
      "align_self": null,
      "border": null,
      "bottom": null,
      "display": null,
      "flex": null,
      "flex_flow": null,
      "grid_area": null,
      "grid_auto_columns": null,
      "grid_auto_flow": null,
      "grid_auto_rows": null,
      "grid_column": null,
      "grid_gap": null,
      "grid_row": null,
      "grid_template_areas": null,
      "grid_template_columns": null,
      "grid_template_rows": null,
      "height": null,
      "justify_content": null,
      "justify_items": null,
      "left": null,
      "margin": null,
      "max_height": null,
      "max_width": null,
      "min_height": null,
      "min_width": null,
      "object_fit": null,
      "object_position": null,
      "order": null,
      "overflow": null,
      "overflow_x": null,
      "overflow_y": null,
      "padding": null,
      "right": null,
      "top": null,
      "visibility": null,
      "width": null
     }
    },
    "319280a2afb8432f9c7cf17c21208763": {
     "model_module": "@jupyter-widgets/base",
     "model_module_version": "1.2.0",
     "model_name": "LayoutModel",
     "state": {
      "_model_module": "@jupyter-widgets/base",
      "_model_module_version": "1.2.0",
      "_model_name": "LayoutModel",
      "_view_count": null,
      "_view_module": "@jupyter-widgets/base",
      "_view_module_version": "1.2.0",
      "_view_name": "LayoutView",
      "align_content": null,
      "align_items": null,
      "align_self": null,
      "border": null,
      "bottom": null,
      "display": null,
      "flex": null,
      "flex_flow": null,
      "grid_area": null,
      "grid_auto_columns": null,
      "grid_auto_flow": null,
      "grid_auto_rows": null,
      "grid_column": null,
      "grid_gap": null,
      "grid_row": null,
      "grid_template_areas": null,
      "grid_template_columns": null,
      "grid_template_rows": null,
      "height": null,
      "justify_content": null,
      "justify_items": null,
      "left": null,
      "margin": null,
      "max_height": null,
      "max_width": null,
      "min_height": null,
      "min_width": null,
      "object_fit": null,
      "object_position": null,
      "order": null,
      "overflow": null,
      "overflow_x": null,
      "overflow_y": null,
      "padding": null,
      "right": null,
      "top": null,
      "visibility": "hidden",
      "width": null
     }
    },
    "347d3e531a1c4d35b34b04e57122dffb": {
     "model_module": "@jupyter-widgets/controls",
     "model_module_version": "1.5.0",
     "model_name": "DescriptionStyleModel",
     "state": {
      "_model_module": "@jupyter-widgets/controls",
      "_model_module_version": "1.5.0",
      "_model_name": "DescriptionStyleModel",
      "_view_count": null,
      "_view_module": "@jupyter-widgets/base",
      "_view_module_version": "1.2.0",
      "_view_name": "StyleView",
      "description_width": ""
     }
    },
    "396f07f2e6de4b628cbfac7ade7391f5": {
     "model_module": "@jupyter-widgets/base",
     "model_module_version": "1.2.0",
     "model_name": "LayoutModel",
     "state": {
      "_model_module": "@jupyter-widgets/base",
      "_model_module_version": "1.2.0",
      "_model_name": "LayoutModel",
      "_view_count": null,
      "_view_module": "@jupyter-widgets/base",
      "_view_module_version": "1.2.0",
      "_view_name": "LayoutView",
      "align_content": null,
      "align_items": null,
      "align_self": null,
      "border": null,
      "bottom": null,
      "display": null,
      "flex": null,
      "flex_flow": null,
      "grid_area": null,
      "grid_auto_columns": null,
      "grid_auto_flow": null,
      "grid_auto_rows": null,
      "grid_column": null,
      "grid_gap": null,
      "grid_row": null,
      "grid_template_areas": null,
      "grid_template_columns": null,
      "grid_template_rows": null,
      "height": null,
      "justify_content": null,
      "justify_items": null,
      "left": null,
      "margin": null,
      "max_height": null,
      "max_width": null,
      "min_height": null,
      "min_width": null,
      "object_fit": null,
      "object_position": null,
      "order": null,
      "overflow": null,
      "overflow_x": null,
      "overflow_y": null,
      "padding": null,
      "right": null,
      "top": null,
      "visibility": null,
      "width": "20px"
     }
    },
    "42a646e747074ad0a1800b658a6f517a": {
     "model_module": "@jupyter-widgets/controls",
     "model_module_version": "1.5.0",
     "model_name": "DescriptionStyleModel",
     "state": {
      "_model_module": "@jupyter-widgets/controls",
      "_model_module_version": "1.5.0",
      "_model_name": "DescriptionStyleModel",
      "_view_count": null,
      "_view_module": "@jupyter-widgets/base",
      "_view_module_version": "1.2.0",
      "_view_name": "StyleView",
      "description_width": ""
     }
    },
    "43c9acd1b0cc4d949d6fb69a49fcac6b": {
     "model_module": "@jupyter-widgets/controls",
     "model_module_version": "1.5.0",
     "model_name": "HTMLModel",
     "state": {
      "_dom_classes": [],
      "_model_module": "@jupyter-widgets/controls",
      "_model_module_version": "1.5.0",
      "_model_name": "HTMLModel",
      "_view_count": null,
      "_view_module": "@jupyter-widgets/controls",
      "_view_module_version": "1.5.0",
      "_view_name": "HTMLView",
      "description": "",
      "description_tooltip": null,
      "layout": "IPY_MODEL_19feb2b44b5a4a28a899acabc28dc464",
      "placeholder": "​",
      "style": "IPY_MODEL_830efa2071884befb99e003e891408ba",
      "value": "Shuffling /root/tensorflow_datasets/fashion_mnist/3.0.1.incompleteD16QBL/fashion_mnist-train.tfrecord*...:  76%"
     }
    },
    "478068a715554748923edc187e3a81a6": {
     "model_module": "@jupyter-widgets/controls",
     "model_module_version": "1.5.0",
     "model_name": "ProgressStyleModel",
     "state": {
      "_model_module": "@jupyter-widgets/controls",
      "_model_module_version": "1.5.0",
      "_model_name": "ProgressStyleModel",
      "_view_count": null,
      "_view_module": "@jupyter-widgets/base",
      "_view_module_version": "1.2.0",
      "_view_name": "StyleView",
      "bar_color": null,
      "description_width": ""
     }
    },
    "4a58bff9689947729e30750408ac43a0": {
     "model_module": "@jupyter-widgets/controls",
     "model_module_version": "1.5.0",
     "model_name": "ProgressStyleModel",
     "state": {
      "_model_module": "@jupyter-widgets/controls",
      "_model_module_version": "1.5.0",
      "_model_name": "ProgressStyleModel",
      "_view_count": null,
      "_view_module": "@jupyter-widgets/base",
      "_view_module_version": "1.2.0",
      "_view_name": "StyleView",
      "bar_color": null,
      "description_width": ""
     }
    },
    "50c17e33cf884aa0a4fecc662d92e8fc": {
     "model_module": "@jupyter-widgets/base",
     "model_module_version": "1.2.0",
     "model_name": "LayoutModel",
     "state": {
      "_model_module": "@jupyter-widgets/base",
      "_model_module_version": "1.2.0",
      "_model_name": "LayoutModel",
      "_view_count": null,
      "_view_module": "@jupyter-widgets/base",
      "_view_module_version": "1.2.0",
      "_view_name": "LayoutView",
      "align_content": null,
      "align_items": null,
      "align_self": null,
      "border": null,
      "bottom": null,
      "display": null,
      "flex": null,
      "flex_flow": null,
      "grid_area": null,
      "grid_auto_columns": null,
      "grid_auto_flow": null,
      "grid_auto_rows": null,
      "grid_column": null,
      "grid_gap": null,
      "grid_row": null,
      "grid_template_areas": null,
      "grid_template_columns": null,
      "grid_template_rows": null,
      "height": null,
      "justify_content": null,
      "justify_items": null,
      "left": null,
      "margin": null,
      "max_height": null,
      "max_width": null,
      "min_height": null,
      "min_width": null,
      "object_fit": null,
      "object_position": null,
      "order": null,
      "overflow": null,
      "overflow_x": null,
      "overflow_y": null,
      "padding": null,
      "right": null,
      "top": null,
      "visibility": null,
      "width": null
     }
    },
    "56b4ea9436374907b60fad90e66d17ac": {
     "model_module": "@jupyter-widgets/controls",
     "model_module_version": "1.5.0",
     "model_name": "ProgressStyleModel",
     "state": {
      "_model_module": "@jupyter-widgets/controls",
      "_model_module_version": "1.5.0",
      "_model_name": "ProgressStyleModel",
      "_view_count": null,
      "_view_module": "@jupyter-widgets/base",
      "_view_module_version": "1.2.0",
      "_view_name": "StyleView",
      "bar_color": null,
      "description_width": ""
     }
    },
    "5d5ada16c08141ccb762f8391ca5d41d": {
     "model_module": "@jupyter-widgets/controls",
     "model_module_version": "1.5.0",
     "model_name": "HTMLModel",
     "state": {
      "_dom_classes": [],
      "_model_module": "@jupyter-widgets/controls",
      "_model_module_version": "1.5.0",
      "_model_name": "HTMLModel",
      "_view_count": null,
      "_view_module": "@jupyter-widgets/controls",
      "_view_module_version": "1.5.0",
      "_view_name": "HTMLView",
      "description": "",
      "description_tooltip": null,
      "layout": "IPY_MODEL_ae32d521abe9411aa8a5ba43cace4775",
      "placeholder": "​",
      "style": "IPY_MODEL_42a646e747074ad0a1800b658a6f517a",
      "value": "Dl Size...: 100%"
     }
    },
    "5dc255f6cdb94b63894f7bbe4c8c5954": {
     "model_module": "@jupyter-widgets/controls",
     "model_module_version": "1.5.0",
     "model_name": "HTMLModel",
     "state": {
      "_dom_classes": [],
      "_model_module": "@jupyter-widgets/controls",
      "_model_module_version": "1.5.0",
      "_model_name": "HTMLModel",
      "_view_count": null,
      "_view_module": "@jupyter-widgets/controls",
      "_view_module_version": "1.5.0",
      "_view_name": "HTMLView",
      "description": "",
      "description_tooltip": null,
      "layout": "IPY_MODEL_a5023ae44d2e4352aabaaaffbac6f38f",
      "placeholder": "​",
      "style": "IPY_MODEL_24d0db5e966f42ff944c6da380977803",
      "value": " 2/2 [00:43&lt;00:00, 18.95s/ splits]"
     }
    },
    "619b84ff757d4f779f407bc03e7d7f92": {
     "model_module": "@jupyter-widgets/base",
     "model_module_version": "1.2.0",
     "model_name": "LayoutModel",
     "state": {
      "_model_module": "@jupyter-widgets/base",
      "_model_module_version": "1.2.0",
      "_model_name": "LayoutModel",
      "_view_count": null,
      "_view_module": "@jupyter-widgets/base",
      "_view_module_version": "1.2.0",
      "_view_name": "LayoutView",
      "align_content": null,
      "align_items": null,
      "align_self": null,
      "border": null,
      "bottom": null,
      "display": null,
      "flex": null,
      "flex_flow": null,
      "grid_area": null,
      "grid_auto_columns": null,
      "grid_auto_flow": null,
      "grid_auto_rows": null,
      "grid_column": null,
      "grid_gap": null,
      "grid_row": null,
      "grid_template_areas": null,
      "grid_template_columns": null,
      "grid_template_rows": null,
      "height": null,
      "justify_content": null,
      "justify_items": null,
      "left": null,
      "margin": null,
      "max_height": null,
      "max_width": null,
      "min_height": null,
      "min_width": null,
      "object_fit": null,
      "object_position": null,
      "order": null,
      "overflow": null,
      "overflow_x": null,
      "overflow_y": null,
      "padding": null,
      "right": null,
      "top": null,
      "visibility": "hidden",
      "width": null
     }
    },
    "62f6f3b0db544b238d5b6cd4ba0003a3": {
     "model_module": "@jupyter-widgets/controls",
     "model_module_version": "1.5.0",
     "model_name": "HTMLModel",
     "state": {
      "_dom_classes": [],
      "_model_module": "@jupyter-widgets/controls",
      "_model_module_version": "1.5.0",
      "_model_name": "HTMLModel",
      "_view_count": null,
      "_view_module": "@jupyter-widgets/controls",
      "_view_module_version": "1.5.0",
      "_view_name": "HTMLView",
      "description": "",
      "description_tooltip": null,
      "layout": "IPY_MODEL_e47443040a0b4d0cbc124cb651675014",
      "placeholder": "​",
      "style": "IPY_MODEL_1d5d34b0f6974946a4dff15722280b20",
      "value": "Extraction completed...: 100%"
     }
    },
    "673760bce609439196d7c453350a9378": {
     "model_module": "@jupyter-widgets/controls",
     "model_module_version": "1.5.0",
     "model_name": "HTMLModel",
     "state": {
      "_dom_classes": [],
      "_model_module": "@jupyter-widgets/controls",
      "_model_module_version": "1.5.0",
      "_model_name": "HTMLModel",
      "_view_count": null,
      "_view_module": "@jupyter-widgets/controls",
      "_view_module_version": "1.5.0",
      "_view_name": "HTMLView",
      "description": "",
      "description_tooltip": null,
      "layout": "IPY_MODEL_0b66cd45a20741889c4f40a64fc8e7a4",
      "placeholder": "​",
      "style": "IPY_MODEL_b923b1dbb205483d8a77f35e282ef764",
      "value": " 9925/10000 [00:06&lt;00:00, 1623.54 examples/s]"
     }
    },
    "6a29bed67bcb4884bbe57493a98ee8e9": {
     "model_module": "@jupyter-widgets/controls",
     "model_module_version": "1.5.0",
     "model_name": "FloatProgressModel",
     "state": {
      "_dom_classes": [],
      "_model_module": "@jupyter-widgets/controls",
      "_model_module_version": "1.5.0",
      "_model_name": "FloatProgressModel",
      "_view_count": null,
      "_view_module": "@jupyter-widgets/controls",
      "_view_module_version": "1.5.0",
      "_view_name": "ProgressView",
      "bar_style": "success",
      "description": "",
      "description_tooltip": null,
      "layout": "IPY_MODEL_72e8177670e749378295a1445d8f9090",
      "max": 1,
      "min": 0,
      "orientation": "horizontal",
      "style": "IPY_MODEL_56b4ea9436374907b60fad90e66d17ac",
      "value": 1
     }
    },
    "6b8652af4b844168bf088a38de647c7b": {
     "model_module": "@jupyter-widgets/controls",
     "model_module_version": "1.5.0",
     "model_name": "DescriptionStyleModel",
     "state": {
      "_model_module": "@jupyter-widgets/controls",
      "_model_module_version": "1.5.0",
      "_model_name": "DescriptionStyleModel",
      "_view_count": null,
      "_view_module": "@jupyter-widgets/base",
      "_view_module_version": "1.2.0",
      "_view_name": "StyleView",
      "description_width": ""
     }
    },
    "6df5c240cdd149feab3d41c25129dd3d": {
     "model_module": "@jupyter-widgets/base",
     "model_module_version": "1.2.0",
     "model_name": "LayoutModel",
     "state": {
      "_model_module": "@jupyter-widgets/base",
      "_model_module_version": "1.2.0",
      "_model_name": "LayoutModel",
      "_view_count": null,
      "_view_module": "@jupyter-widgets/base",
      "_view_module_version": "1.2.0",
      "_view_name": "LayoutView",
      "align_content": null,
      "align_items": null,
      "align_self": null,
      "border": null,
      "bottom": null,
      "display": null,
      "flex": null,
      "flex_flow": null,
      "grid_area": null,
      "grid_auto_columns": null,
      "grid_auto_flow": null,
      "grid_auto_rows": null,
      "grid_column": null,
      "grid_gap": null,
      "grid_row": null,
      "grid_template_areas": null,
      "grid_template_columns": null,
      "grid_template_rows": null,
      "height": null,
      "justify_content": null,
      "justify_items": null,
      "left": null,
      "margin": null,
      "max_height": null,
      "max_width": null,
      "min_height": null,
      "min_width": null,
      "object_fit": null,
      "object_position": null,
      "order": null,
      "overflow": null,
      "overflow_x": null,
      "overflow_y": null,
      "padding": null,
      "right": null,
      "top": null,
      "visibility": null,
      "width": null
     }
    },
    "704555a401394be38e720f624c8665a7": {
     "model_module": "@jupyter-widgets/controls",
     "model_module_version": "1.5.0",
     "model_name": "DescriptionStyleModel",
     "state": {
      "_model_module": "@jupyter-widgets/controls",
      "_model_module_version": "1.5.0",
      "_model_name": "DescriptionStyleModel",
      "_view_count": null,
      "_view_module": "@jupyter-widgets/base",
      "_view_module_version": "1.2.0",
      "_view_name": "StyleView",
      "description_width": ""
     }
    },
    "72e8177670e749378295a1445d8f9090": {
     "model_module": "@jupyter-widgets/base",
     "model_module_version": "1.2.0",
     "model_name": "LayoutModel",
     "state": {
      "_model_module": "@jupyter-widgets/base",
      "_model_module_version": "1.2.0",
      "_model_name": "LayoutModel",
      "_view_count": null,
      "_view_module": "@jupyter-widgets/base",
      "_view_module_version": "1.2.0",
      "_view_name": "LayoutView",
      "align_content": null,
      "align_items": null,
      "align_self": null,
      "border": null,
      "bottom": null,
      "display": null,
      "flex": null,
      "flex_flow": null,
      "grid_area": null,
      "grid_auto_columns": null,
      "grid_auto_flow": null,
      "grid_auto_rows": null,
      "grid_column": null,
      "grid_gap": null,
      "grid_row": null,
      "grid_template_areas": null,
      "grid_template_columns": null,
      "grid_template_rows": null,
      "height": null,
      "justify_content": null,
      "justify_items": null,
      "left": null,
      "margin": null,
      "max_height": null,
      "max_width": null,
      "min_height": null,
      "min_width": null,
      "object_fit": null,
      "object_position": null,
      "order": null,
      "overflow": null,
      "overflow_x": null,
      "overflow_y": null,
      "padding": null,
      "right": null,
      "top": null,
      "visibility": null,
      "width": "20px"
     }
    },
    "745940dd4d4e44d7b862ff259c2b131f": {
     "model_module": "@jupyter-widgets/base",
     "model_module_version": "1.2.0",
     "model_name": "LayoutModel",
     "state": {
      "_model_module": "@jupyter-widgets/base",
      "_model_module_version": "1.2.0",
      "_model_name": "LayoutModel",
      "_view_count": null,
      "_view_module": "@jupyter-widgets/base",
      "_view_module_version": "1.2.0",
      "_view_name": "LayoutView",
      "align_content": null,
      "align_items": null,
      "align_self": null,
      "border": null,
      "bottom": null,
      "display": null,
      "flex": null,
      "flex_flow": null,
      "grid_area": null,
      "grid_auto_columns": null,
      "grid_auto_flow": null,
      "grid_auto_rows": null,
      "grid_column": null,
      "grid_gap": null,
      "grid_row": null,
      "grid_template_areas": null,
      "grid_template_columns": null,
      "grid_template_rows": null,
      "height": null,
      "justify_content": null,
      "justify_items": null,
      "left": null,
      "margin": null,
      "max_height": null,
      "max_width": null,
      "min_height": null,
      "min_width": null,
      "object_fit": null,
      "object_position": null,
      "order": null,
      "overflow": null,
      "overflow_x": null,
      "overflow_y": null,
      "padding": null,
      "right": null,
      "top": null,
      "visibility": null,
      "width": null
     }
    },
    "74e0663c1bf2455db9b00558ae6cd3c2": {
     "model_module": "@jupyter-widgets/controls",
     "model_module_version": "1.5.0",
     "model_name": "HBoxModel",
     "state": {
      "_dom_classes": [],
      "_model_module": "@jupyter-widgets/controls",
      "_model_module_version": "1.5.0",
      "_model_name": "HBoxModel",
      "_view_count": null,
      "_view_module": "@jupyter-widgets/controls",
      "_view_module_version": "1.5.0",
      "_view_name": "HBoxView",
      "box_style": "",
      "children": [
       "IPY_MODEL_bf60c83344754af99f5e16625af1cd08",
       "IPY_MODEL_f5ac0f6b31e54fd0b1ab30769e45da17",
       "IPY_MODEL_673760bce609439196d7c453350a9378"
      ],
      "layout": "IPY_MODEL_bb04c202b5fe4168b918b70d1e46c69e"
     }
    },
    "77103c0738b14793a2f37a6fafbcea4a": {
     "model_module": "@jupyter-widgets/base",
     "model_module_version": "1.2.0",
     "model_name": "LayoutModel",
     "state": {
      "_model_module": "@jupyter-widgets/base",
      "_model_module_version": "1.2.0",
      "_model_name": "LayoutModel",
      "_view_count": null,
      "_view_module": "@jupyter-widgets/base",
      "_view_module_version": "1.2.0",
      "_view_name": "LayoutView",
      "align_content": null,
      "align_items": null,
      "align_self": null,
      "border": null,
      "bottom": null,
      "display": null,
      "flex": null,
      "flex_flow": null,
      "grid_area": null,
      "grid_auto_columns": null,
      "grid_auto_flow": null,
      "grid_auto_rows": null,
      "grid_column": null,
      "grid_gap": null,
      "grid_row": null,
      "grid_template_areas": null,
      "grid_template_columns": null,
      "grid_template_rows": null,
      "height": null,
      "justify_content": null,
      "justify_items": null,
      "left": null,
      "margin": null,
      "max_height": null,
      "max_width": null,
      "min_height": null,
      "min_width": null,
      "object_fit": null,
      "object_position": null,
      "order": null,
      "overflow": null,
      "overflow_x": null,
      "overflow_y": null,
      "padding": null,
      "right": null,
      "top": null,
      "visibility": null,
      "width": null
     }
    },
    "78f8062951ab4097b7dfa893f9d155f6": {
     "model_module": "@jupyter-widgets/base",
     "model_module_version": "1.2.0",
     "model_name": "LayoutModel",
     "state": {
      "_model_module": "@jupyter-widgets/base",
      "_model_module_version": "1.2.0",
      "_model_name": "LayoutModel",
      "_view_count": null,
      "_view_module": "@jupyter-widgets/base",
      "_view_module_version": "1.2.0",
      "_view_name": "LayoutView",
      "align_content": null,
      "align_items": null,
      "align_self": null,
      "border": null,
      "bottom": null,
      "display": null,
      "flex": null,
      "flex_flow": null,
      "grid_area": null,
      "grid_auto_columns": null,
      "grid_auto_flow": null,
      "grid_auto_rows": null,
      "grid_column": null,
      "grid_gap": null,
      "grid_row": null,
      "grid_template_areas": null,
      "grid_template_columns": null,
      "grid_template_rows": null,
      "height": null,
      "justify_content": null,
      "justify_items": null,
      "left": null,
      "margin": null,
      "max_height": null,
      "max_width": null,
      "min_height": null,
      "min_width": null,
      "object_fit": null,
      "object_position": null,
      "order": null,
      "overflow": null,
      "overflow_x": null,
      "overflow_y": null,
      "padding": null,
      "right": null,
      "top": null,
      "visibility": null,
      "width": null
     }
    },
    "79388ace30484feeb999f78ecaf046ed": {
     "model_module": "@jupyter-widgets/base",
     "model_module_version": "1.2.0",
     "model_name": "LayoutModel",
     "state": {
      "_model_module": "@jupyter-widgets/base",
      "_model_module_version": "1.2.0",
      "_model_name": "LayoutModel",
      "_view_count": null,
      "_view_module": "@jupyter-widgets/base",
      "_view_module_version": "1.2.0",
      "_view_name": "LayoutView",
      "align_content": null,
      "align_items": null,
      "align_self": null,
      "border": null,
      "bottom": null,
      "display": null,
      "flex": null,
      "flex_flow": null,
      "grid_area": null,
      "grid_auto_columns": null,
      "grid_auto_flow": null,
      "grid_auto_rows": null,
      "grid_column": null,
      "grid_gap": null,
      "grid_row": null,
      "grid_template_areas": null,
      "grid_template_columns": null,
      "grid_template_rows": null,
      "height": null,
      "justify_content": null,
      "justify_items": null,
      "left": null,
      "margin": null,
      "max_height": null,
      "max_width": null,
      "min_height": null,
      "min_width": null,
      "object_fit": null,
      "object_position": null,
      "order": null,
      "overflow": null,
      "overflow_x": null,
      "overflow_y": null,
      "padding": null,
      "right": null,
      "top": null,
      "visibility": null,
      "width": null
     }
    },
    "7ca1be3d2bf74367b4e0ddf07ddd4670": {
     "model_module": "@jupyter-widgets/base",
     "model_module_version": "1.2.0",
     "model_name": "LayoutModel",
     "state": {
      "_model_module": "@jupyter-widgets/base",
      "_model_module_version": "1.2.0",
      "_model_name": "LayoutModel",
      "_view_count": null,
      "_view_module": "@jupyter-widgets/base",
      "_view_module_version": "1.2.0",
      "_view_name": "LayoutView",
      "align_content": null,
      "align_items": null,
      "align_self": null,
      "border": null,
      "bottom": null,
      "display": null,
      "flex": null,
      "flex_flow": null,
      "grid_area": null,
      "grid_auto_columns": null,
      "grid_auto_flow": null,
      "grid_auto_rows": null,
      "grid_column": null,
      "grid_gap": null,
      "grid_row": null,
      "grid_template_areas": null,
      "grid_template_columns": null,
      "grid_template_rows": null,
      "height": null,
      "justify_content": null,
      "justify_items": null,
      "left": null,
      "margin": null,
      "max_height": null,
      "max_width": null,
      "min_height": null,
      "min_width": null,
      "object_fit": null,
      "object_position": null,
      "order": null,
      "overflow": null,
      "overflow_x": null,
      "overflow_y": null,
      "padding": null,
      "right": null,
      "top": null,
      "visibility": null,
      "width": null
     }
    },
    "81ae9acf660848029d6b8250d6cb7b8a": {
     "model_module": "@jupyter-widgets/base",
     "model_module_version": "1.2.0",
     "model_name": "LayoutModel",
     "state": {
      "_model_module": "@jupyter-widgets/base",
      "_model_module_version": "1.2.0",
      "_model_name": "LayoutModel",
      "_view_count": null,
      "_view_module": "@jupyter-widgets/base",
      "_view_module_version": "1.2.0",
      "_view_name": "LayoutView",
      "align_content": null,
      "align_items": null,
      "align_self": null,
      "border": null,
      "bottom": null,
      "display": null,
      "flex": null,
      "flex_flow": null,
      "grid_area": null,
      "grid_auto_columns": null,
      "grid_auto_flow": null,
      "grid_auto_rows": null,
      "grid_column": null,
      "grid_gap": null,
      "grid_row": null,
      "grid_template_areas": null,
      "grid_template_columns": null,
      "grid_template_rows": null,
      "height": null,
      "justify_content": null,
      "justify_items": null,
      "left": null,
      "margin": null,
      "max_height": null,
      "max_width": null,
      "min_height": null,
      "min_width": null,
      "object_fit": null,
      "object_position": null,
      "order": null,
      "overflow": null,
      "overflow_x": null,
      "overflow_y": null,
      "padding": null,
      "right": null,
      "top": null,
      "visibility": null,
      "width": null
     }
    },
    "830efa2071884befb99e003e891408ba": {
     "model_module": "@jupyter-widgets/controls",
     "model_module_version": "1.5.0",
     "model_name": "DescriptionStyleModel",
     "state": {
      "_model_module": "@jupyter-widgets/controls",
      "_model_module_version": "1.5.0",
      "_model_name": "DescriptionStyleModel",
      "_view_count": null,
      "_view_module": "@jupyter-widgets/base",
      "_view_module_version": "1.2.0",
      "_view_name": "StyleView",
      "description_width": ""
     }
    },
    "8418df10625240d0b65252b67ab01c82": {
     "model_module": "@jupyter-widgets/controls",
     "model_module_version": "1.5.0",
     "model_name": "DescriptionStyleModel",
     "state": {
      "_model_module": "@jupyter-widgets/controls",
      "_model_module_version": "1.5.0",
      "_model_name": "DescriptionStyleModel",
      "_view_count": null,
      "_view_module": "@jupyter-widgets/base",
      "_view_module_version": "1.2.0",
      "_view_name": "StyleView",
      "description_width": ""
     }
    },
    "854e8b88a11744c79c5ed3370c5655a4": {
     "model_module": "@jupyter-widgets/base",
     "model_module_version": "1.2.0",
     "model_name": "LayoutModel",
     "state": {
      "_model_module": "@jupyter-widgets/base",
      "_model_module_version": "1.2.0",
      "_model_name": "LayoutModel",
      "_view_count": null,
      "_view_module": "@jupyter-widgets/base",
      "_view_module_version": "1.2.0",
      "_view_name": "LayoutView",
      "align_content": null,
      "align_items": null,
      "align_self": null,
      "border": null,
      "bottom": null,
      "display": null,
      "flex": null,
      "flex_flow": null,
      "grid_area": null,
      "grid_auto_columns": null,
      "grid_auto_flow": null,
      "grid_auto_rows": null,
      "grid_column": null,
      "grid_gap": null,
      "grid_row": null,
      "grid_template_areas": null,
      "grid_template_columns": null,
      "grid_template_rows": null,
      "height": null,
      "justify_content": null,
      "justify_items": null,
      "left": null,
      "margin": null,
      "max_height": null,
      "max_width": null,
      "min_height": null,
      "min_width": null,
      "object_fit": null,
      "object_position": null,
      "order": null,
      "overflow": null,
      "overflow_x": null,
      "overflow_y": null,
      "padding": null,
      "right": null,
      "top": null,
      "visibility": null,
      "width": null
     }
    },
    "8b168ceacbbd443f9eec7fb9b042b1ae": {
     "model_module": "@jupyter-widgets/base",
     "model_module_version": "1.2.0",
     "model_name": "LayoutModel",
     "state": {
      "_model_module": "@jupyter-widgets/base",
      "_model_module_version": "1.2.0",
      "_model_name": "LayoutModel",
      "_view_count": null,
      "_view_module": "@jupyter-widgets/base",
      "_view_module_version": "1.2.0",
      "_view_name": "LayoutView",
      "align_content": null,
      "align_items": null,
      "align_self": null,
      "border": null,
      "bottom": null,
      "display": null,
      "flex": null,
      "flex_flow": null,
      "grid_area": null,
      "grid_auto_columns": null,
      "grid_auto_flow": null,
      "grid_auto_rows": null,
      "grid_column": null,
      "grid_gap": null,
      "grid_row": null,
      "grid_template_areas": null,
      "grid_template_columns": null,
      "grid_template_rows": null,
      "height": null,
      "justify_content": null,
      "justify_items": null,
      "left": null,
      "margin": null,
      "max_height": null,
      "max_width": null,
      "min_height": null,
      "min_width": null,
      "object_fit": null,
      "object_position": null,
      "order": null,
      "overflow": null,
      "overflow_x": null,
      "overflow_y": null,
      "padding": null,
      "right": null,
      "top": null,
      "visibility": null,
      "width": null
     }
    },
    "8f4e9eeb1c534c8ebbb06202fef8e703": {
     "model_module": "@jupyter-widgets/base",
     "model_module_version": "1.2.0",
     "model_name": "LayoutModel",
     "state": {
      "_model_module": "@jupyter-widgets/base",
      "_model_module_version": "1.2.0",
      "_model_name": "LayoutModel",
      "_view_count": null,
      "_view_module": "@jupyter-widgets/base",
      "_view_module_version": "1.2.0",
      "_view_name": "LayoutView",
      "align_content": null,
      "align_items": null,
      "align_self": null,
      "border": null,
      "bottom": null,
      "display": null,
      "flex": null,
      "flex_flow": null,
      "grid_area": null,
      "grid_auto_columns": null,
      "grid_auto_flow": null,
      "grid_auto_rows": null,
      "grid_column": null,
      "grid_gap": null,
      "grid_row": null,
      "grid_template_areas": null,
      "grid_template_columns": null,
      "grid_template_rows": null,
      "height": null,
      "justify_content": null,
      "justify_items": null,
      "left": null,
      "margin": null,
      "max_height": null,
      "max_width": null,
      "min_height": null,
      "min_width": null,
      "object_fit": null,
      "object_position": null,
      "order": null,
      "overflow": null,
      "overflow_x": null,
      "overflow_y": null,
      "padding": null,
      "right": null,
      "top": null,
      "visibility": null,
      "width": null
     }
    },
    "8f9e6d6df875468689202cdfa1a9a57c": {
     "model_module": "@jupyter-widgets/controls",
     "model_module_version": "1.5.0",
     "model_name": "FloatProgressModel",
     "state": {
      "_dom_classes": [],
      "_model_module": "@jupyter-widgets/controls",
      "_model_module_version": "1.5.0",
      "_model_name": "FloatProgressModel",
      "_view_count": null,
      "_view_module": "@jupyter-widgets/controls",
      "_view_module_version": "1.5.0",
      "_view_name": "ProgressView",
      "bar_style": "",
      "description": "",
      "description_tooltip": null,
      "layout": "IPY_MODEL_1c7b93ff9bba4fda86ce7a5f528cbaa6",
      "max": 60000,
      "min": 0,
      "orientation": "horizontal",
      "style": "IPY_MODEL_478068a715554748923edc187e3a81a6",
      "value": 60000
     }
    },
    "915bb63a200c4d3f823f77dcf233f50a": {
     "model_module": "@jupyter-widgets/base",
     "model_module_version": "1.2.0",
     "model_name": "LayoutModel",
     "state": {
      "_model_module": "@jupyter-widgets/base",
      "_model_module_version": "1.2.0",
      "_model_name": "LayoutModel",
      "_view_count": null,
      "_view_module": "@jupyter-widgets/base",
      "_view_module_version": "1.2.0",
      "_view_name": "LayoutView",
      "align_content": null,
      "align_items": null,
      "align_self": null,
      "border": null,
      "bottom": null,
      "display": null,
      "flex": null,
      "flex_flow": null,
      "grid_area": null,
      "grid_auto_columns": null,
      "grid_auto_flow": null,
      "grid_auto_rows": null,
      "grid_column": null,
      "grid_gap": null,
      "grid_row": null,
      "grid_template_areas": null,
      "grid_template_columns": null,
      "grid_template_rows": null,
      "height": null,
      "justify_content": null,
      "justify_items": null,
      "left": null,
      "margin": null,
      "max_height": null,
      "max_width": null,
      "min_height": null,
      "min_width": null,
      "object_fit": null,
      "object_position": null,
      "order": null,
      "overflow": null,
      "overflow_x": null,
      "overflow_y": null,
      "padding": null,
      "right": null,
      "top": null,
      "visibility": "hidden",
      "width": null
     }
    },
    "986dc71c2c1047b09b66b557e81bcc58": {
     "model_module": "@jupyter-widgets/base",
     "model_module_version": "1.2.0",
     "model_name": "LayoutModel",
     "state": {
      "_model_module": "@jupyter-widgets/base",
      "_model_module_version": "1.2.0",
      "_model_name": "LayoutModel",
      "_view_count": null,
      "_view_module": "@jupyter-widgets/base",
      "_view_module_version": "1.2.0",
      "_view_name": "LayoutView",
      "align_content": null,
      "align_items": null,
      "align_self": null,
      "border": null,
      "bottom": null,
      "display": null,
      "flex": null,
      "flex_flow": null,
      "grid_area": null,
      "grid_auto_columns": null,
      "grid_auto_flow": null,
      "grid_auto_rows": null,
      "grid_column": null,
      "grid_gap": null,
      "grid_row": null,
      "grid_template_areas": null,
      "grid_template_columns": null,
      "grid_template_rows": null,
      "height": null,
      "justify_content": null,
      "justify_items": null,
      "left": null,
      "margin": null,
      "max_height": null,
      "max_width": null,
      "min_height": null,
      "min_width": null,
      "object_fit": null,
      "object_position": null,
      "order": null,
      "overflow": null,
      "overflow_x": null,
      "overflow_y": null,
      "padding": null,
      "right": null,
      "top": null,
      "visibility": null,
      "width": null
     }
    },
    "99cbb430ce1d434e9c253af929516305": {
     "model_module": "@jupyter-widgets/controls",
     "model_module_version": "1.5.0",
     "model_name": "HTMLModel",
     "state": {
      "_dom_classes": [],
      "_model_module": "@jupyter-widgets/controls",
      "_model_module_version": "1.5.0",
      "_model_name": "HTMLModel",
      "_view_count": null,
      "_view_module": "@jupyter-widgets/controls",
      "_view_module_version": "1.5.0",
      "_view_name": "HTMLView",
      "description": "",
      "description_tooltip": null,
      "layout": "IPY_MODEL_77103c0738b14793a2f37a6fafbcea4a",
      "placeholder": "​",
      "style": "IPY_MODEL_704555a401394be38e720f624c8665a7",
      "value": " 45581/60000 [00:00&lt;00:00, 252431.67 examples/s]"
     }
    },
    "a4b16648ee3b40459b356dace846b8cc": {
     "model_module": "@jupyter-widgets/controls",
     "model_module_version": "1.5.0",
     "model_name": "FloatProgressModel",
     "state": {
      "_dom_classes": [],
      "_model_module": "@jupyter-widgets/controls",
      "_model_module_version": "1.5.0",
      "_model_name": "FloatProgressModel",
      "_view_count": null,
      "_view_module": "@jupyter-widgets/controls",
      "_view_module_version": "1.5.0",
      "_view_name": "ProgressView",
      "bar_style": "success",
      "description": "",
      "description_tooltip": null,
      "layout": "IPY_MODEL_b869ed63733a4e81bfb63a18bbac8a10",
      "max": 1,
      "min": 0,
      "orientation": "horizontal",
      "style": "IPY_MODEL_1f9f04b78b3d4ba280af3511b91d1026",
      "value": 1
     }
    },
    "a5023ae44d2e4352aabaaaffbac6f38f": {
     "model_module": "@jupyter-widgets/base",
     "model_module_version": "1.2.0",
     "model_name": "LayoutModel",
     "state": {
      "_model_module": "@jupyter-widgets/base",
      "_model_module_version": "1.2.0",
      "_model_name": "LayoutModel",
      "_view_count": null,
      "_view_module": "@jupyter-widgets/base",
      "_view_module_version": "1.2.0",
      "_view_name": "LayoutView",
      "align_content": null,
      "align_items": null,
      "align_self": null,
      "border": null,
      "bottom": null,
      "display": null,
      "flex": null,
      "flex_flow": null,
      "grid_area": null,
      "grid_auto_columns": null,
      "grid_auto_flow": null,
      "grid_auto_rows": null,
      "grid_column": null,
      "grid_gap": null,
      "grid_row": null,
      "grid_template_areas": null,
      "grid_template_columns": null,
      "grid_template_rows": null,
      "height": null,
      "justify_content": null,
      "justify_items": null,
      "left": null,
      "margin": null,
      "max_height": null,
      "max_width": null,
      "min_height": null,
      "min_width": null,
      "object_fit": null,
      "object_position": null,
      "order": null,
      "overflow": null,
      "overflow_x": null,
      "overflow_y": null,
      "padding": null,
      "right": null,
      "top": null,
      "visibility": null,
      "width": null
     }
    },
    "a56f80a54cb64eb581f6f608597b998f": {
     "model_module": "@jupyter-widgets/controls",
     "model_module_version": "1.5.0",
     "model_name": "HBoxModel",
     "state": {
      "_dom_classes": [],
      "_model_module": "@jupyter-widgets/controls",
      "_model_module_version": "1.5.0",
      "_model_name": "HBoxModel",
      "_view_count": null,
      "_view_module": "@jupyter-widgets/controls",
      "_view_module_version": "1.5.0",
      "_view_name": "HBoxView",
      "box_style": "",
      "children": [
       "IPY_MODEL_62f6f3b0db544b238d5b6cd4ba0003a3",
       "IPY_MODEL_d8640c13af7248aa8135a3c02c602be1",
       "IPY_MODEL_2b3b4d93df554b2ab58dd01167efe671"
      ],
      "layout": "IPY_MODEL_c3487eb090d44a0e986d84d07366a6d7"
     }
    },
    "ae32d521abe9411aa8a5ba43cace4775": {
     "model_module": "@jupyter-widgets/base",
     "model_module_version": "1.2.0",
     "model_name": "LayoutModel",
     "state": {
      "_model_module": "@jupyter-widgets/base",
      "_model_module_version": "1.2.0",
      "_model_name": "LayoutModel",
      "_view_count": null,
      "_view_module": "@jupyter-widgets/base",
      "_view_module_version": "1.2.0",
      "_view_name": "LayoutView",
      "align_content": null,
      "align_items": null,
      "align_self": null,
      "border": null,
      "bottom": null,
      "display": null,
      "flex": null,
      "flex_flow": null,
      "grid_area": null,
      "grid_auto_columns": null,
      "grid_auto_flow": null,
      "grid_auto_rows": null,
      "grid_column": null,
      "grid_gap": null,
      "grid_row": null,
      "grid_template_areas": null,
      "grid_template_columns": null,
      "grid_template_rows": null,
      "height": null,
      "justify_content": null,
      "justify_items": null,
      "left": null,
      "margin": null,
      "max_height": null,
      "max_width": null,
      "min_height": null,
      "min_width": null,
      "object_fit": null,
      "object_position": null,
      "order": null,
      "overflow": null,
      "overflow_x": null,
      "overflow_y": null,
      "padding": null,
      "right": null,
      "top": null,
      "visibility": null,
      "width": null
     }
    },
    "b2ced8ca17e74345bdf58812367d1fa2": {
     "model_module": "@jupyter-widgets/controls",
     "model_module_version": "1.5.0",
     "model_name": "DescriptionStyleModel",
     "state": {
      "_model_module": "@jupyter-widgets/controls",
      "_model_module_version": "1.5.0",
      "_model_name": "DescriptionStyleModel",
      "_view_count": null,
      "_view_module": "@jupyter-widgets/base",
      "_view_module_version": "1.2.0",
      "_view_name": "StyleView",
      "description_width": ""
     }
    },
    "b869ed63733a4e81bfb63a18bbac8a10": {
     "model_module": "@jupyter-widgets/base",
     "model_module_version": "1.2.0",
     "model_name": "LayoutModel",
     "state": {
      "_model_module": "@jupyter-widgets/base",
      "_model_module_version": "1.2.0",
      "_model_name": "LayoutModel",
      "_view_count": null,
      "_view_module": "@jupyter-widgets/base",
      "_view_module_version": "1.2.0",
      "_view_name": "LayoutView",
      "align_content": null,
      "align_items": null,
      "align_self": null,
      "border": null,
      "bottom": null,
      "display": null,
      "flex": null,
      "flex_flow": null,
      "grid_area": null,
      "grid_auto_columns": null,
      "grid_auto_flow": null,
      "grid_auto_rows": null,
      "grid_column": null,
      "grid_gap": null,
      "grid_row": null,
      "grid_template_areas": null,
      "grid_template_columns": null,
      "grid_template_rows": null,
      "height": null,
      "justify_content": null,
      "justify_items": null,
      "left": null,
      "margin": null,
      "max_height": null,
      "max_width": null,
      "min_height": null,
      "min_width": null,
      "object_fit": null,
      "object_position": null,
      "order": null,
      "overflow": null,
      "overflow_x": null,
      "overflow_y": null,
      "padding": null,
      "right": null,
      "top": null,
      "visibility": null,
      "width": "20px"
     }
    },
    "b923b1dbb205483d8a77f35e282ef764": {
     "model_module": "@jupyter-widgets/controls",
     "model_module_version": "1.5.0",
     "model_name": "DescriptionStyleModel",
     "state": {
      "_model_module": "@jupyter-widgets/controls",
      "_model_module_version": "1.5.0",
      "_model_name": "DescriptionStyleModel",
      "_view_count": null,
      "_view_module": "@jupyter-widgets/base",
      "_view_module_version": "1.2.0",
      "_view_name": "StyleView",
      "description_width": ""
     }
    },
    "bb04c202b5fe4168b918b70d1e46c69e": {
     "model_module": "@jupyter-widgets/base",
     "model_module_version": "1.2.0",
     "model_name": "LayoutModel",
     "state": {
      "_model_module": "@jupyter-widgets/base",
      "_model_module_version": "1.2.0",
      "_model_name": "LayoutModel",
      "_view_count": null,
      "_view_module": "@jupyter-widgets/base",
      "_view_module_version": "1.2.0",
      "_view_name": "LayoutView",
      "align_content": null,
      "align_items": null,
      "align_self": null,
      "border": null,
      "bottom": null,
      "display": null,
      "flex": null,
      "flex_flow": null,
      "grid_area": null,
      "grid_auto_columns": null,
      "grid_auto_flow": null,
      "grid_auto_rows": null,
      "grid_column": null,
      "grid_gap": null,
      "grid_row": null,
      "grid_template_areas": null,
      "grid_template_columns": null,
      "grid_template_rows": null,
      "height": null,
      "justify_content": null,
      "justify_items": null,
      "left": null,
      "margin": null,
      "max_height": null,
      "max_width": null,
      "min_height": null,
      "min_width": null,
      "object_fit": null,
      "object_position": null,
      "order": null,
      "overflow": null,
      "overflow_x": null,
      "overflow_y": null,
      "padding": null,
      "right": null,
      "top": null,
      "visibility": "hidden",
      "width": null
     }
    },
    "bf60c83344754af99f5e16625af1cd08": {
     "model_module": "@jupyter-widgets/controls",
     "model_module_version": "1.5.0",
     "model_name": "HTMLModel",
     "state": {
      "_dom_classes": [],
      "_model_module": "@jupyter-widgets/controls",
      "_model_module_version": "1.5.0",
      "_model_name": "HTMLModel",
      "_view_count": null,
      "_view_module": "@jupyter-widgets/controls",
      "_view_module_version": "1.5.0",
      "_view_name": "HTMLView",
      "description": "",
      "description_tooltip": null,
      "layout": "IPY_MODEL_de79ef24c3bf439d9843b280fa899dc8",
      "placeholder": "​",
      "style": "IPY_MODEL_347d3e531a1c4d35b34b04e57122dffb",
      "value": "Generating test examples...:  99%"
     }
    },
    "bf936c33106c4eb1a2162da7d8051c5f": {
     "model_module": "@jupyter-widgets/base",
     "model_module_version": "1.2.0",
     "model_name": "LayoutModel",
     "state": {
      "_model_module": "@jupyter-widgets/base",
      "_model_module_version": "1.2.0",
      "_model_name": "LayoutModel",
      "_view_count": null,
      "_view_module": "@jupyter-widgets/base",
      "_view_module_version": "1.2.0",
      "_view_name": "LayoutView",
      "align_content": null,
      "align_items": null,
      "align_self": null,
      "border": null,
      "bottom": null,
      "display": null,
      "flex": null,
      "flex_flow": null,
      "grid_area": null,
      "grid_auto_columns": null,
      "grid_auto_flow": null,
      "grid_auto_rows": null,
      "grid_column": null,
      "grid_gap": null,
      "grid_row": null,
      "grid_template_areas": null,
      "grid_template_columns": null,
      "grid_template_rows": null,
      "height": null,
      "justify_content": null,
      "justify_items": null,
      "left": null,
      "margin": null,
      "max_height": null,
      "max_width": null,
      "min_height": null,
      "min_width": null,
      "object_fit": null,
      "object_position": null,
      "order": null,
      "overflow": null,
      "overflow_x": null,
      "overflow_y": null,
      "padding": null,
      "right": null,
      "top": null,
      "visibility": null,
      "width": null
     }
    },
    "bfa5fab3204240ce86597d96c1f68b1b": {
     "model_module": "@jupyter-widgets/controls",
     "model_module_version": "1.5.0",
     "model_name": "HBoxModel",
     "state": {
      "_dom_classes": [],
      "_model_module": "@jupyter-widgets/controls",
      "_model_module_version": "1.5.0",
      "_model_name": "HBoxModel",
      "_view_count": null,
      "_view_module": "@jupyter-widgets/controls",
      "_view_module_version": "1.5.0",
      "_view_name": "HBoxView",
      "box_style": "",
      "children": [
       "IPY_MODEL_faa305b3fbbf4e1d92a25654dade6c1b",
       "IPY_MODEL_8f9e6d6df875468689202cdfa1a9a57c",
       "IPY_MODEL_1bdc65a9a463471b92dbce0714564f23"
      ],
      "layout": "IPY_MODEL_619b84ff757d4f779f407bc03e7d7f92"
     }
    },
    "c3487eb090d44a0e986d84d07366a6d7": {
     "model_module": "@jupyter-widgets/base",
     "model_module_version": "1.2.0",
     "model_name": "LayoutModel",
     "state": {
      "_model_module": "@jupyter-widgets/base",
      "_model_module_version": "1.2.0",
      "_model_name": "LayoutModel",
      "_view_count": null,
      "_view_module": "@jupyter-widgets/base",
      "_view_module_version": "1.2.0",
      "_view_name": "LayoutView",
      "align_content": null,
      "align_items": null,
      "align_self": null,
      "border": null,
      "bottom": null,
      "display": null,
      "flex": null,
      "flex_flow": null,
      "grid_area": null,
      "grid_auto_columns": null,
      "grid_auto_flow": null,
      "grid_auto_rows": null,
      "grid_column": null,
      "grid_gap": null,
      "grid_row": null,
      "grid_template_areas": null,
      "grid_template_columns": null,
      "grid_template_rows": null,
      "height": null,
      "justify_content": null,
      "justify_items": null,
      "left": null,
      "margin": null,
      "max_height": null,
      "max_width": null,
      "min_height": null,
      "min_width": null,
      "object_fit": null,
      "object_position": null,
      "order": null,
      "overflow": null,
      "overflow_x": null,
      "overflow_y": null,
      "padding": null,
      "right": null,
      "top": null,
      "visibility": null,
      "width": null
     }
    },
    "c6bb185a03bd4ca582708e17911a92fd": {
     "model_module": "@jupyter-widgets/controls",
     "model_module_version": "1.5.0",
     "model_name": "HBoxModel",
     "state": {
      "_dom_classes": [],
      "_model_module": "@jupyter-widgets/controls",
      "_model_module_version": "1.5.0",
      "_model_name": "HBoxModel",
      "_view_count": null,
      "_view_module": "@jupyter-widgets/controls",
      "_view_module_version": "1.5.0",
      "_view_name": "HBoxView",
      "box_style": "",
      "children": [
       "IPY_MODEL_43c9acd1b0cc4d949d6fb69a49fcac6b",
       "IPY_MODEL_f8cafafb97a143759e4f3b22b877bdcd",
       "IPY_MODEL_99cbb430ce1d434e9c253af929516305"
      ],
      "layout": "IPY_MODEL_915bb63a200c4d3f823f77dcf233f50a"
     }
    },
    "cce3291cc34b4d3797f1e1e295a1c1ab": {
     "model_module": "@jupyter-widgets/controls",
     "model_module_version": "1.5.0",
     "model_name": "HBoxModel",
     "state": {
      "_dom_classes": [],
      "_model_module": "@jupyter-widgets/controls",
      "_model_module_version": "1.5.0",
      "_model_name": "HBoxModel",
      "_view_count": null,
      "_view_module": "@jupyter-widgets/controls",
      "_view_module_version": "1.5.0",
      "_view_name": "HBoxView",
      "box_style": "",
      "children": [
       "IPY_MODEL_171a2f64673f4d7b95c33e31adb48a79",
       "IPY_MODEL_da21a5cd521a44259f936a5be695adb5",
       "IPY_MODEL_5dc255f6cdb94b63894f7bbe4c8c5954"
      ],
      "layout": "IPY_MODEL_dd8922e69daf477b884b75c81afbfcbb"
     }
    },
    "ce5c9c9357f44f8eba426536824aa0bc": {
     "model_module": "@jupyter-widgets/controls",
     "model_module_version": "1.5.0",
     "model_name": "DescriptionStyleModel",
     "state": {
      "_model_module": "@jupyter-widgets/controls",
      "_model_module_version": "1.5.0",
      "_model_name": "DescriptionStyleModel",
      "_view_count": null,
      "_view_module": "@jupyter-widgets/base",
      "_view_module_version": "1.2.0",
      "_view_name": "StyleView",
      "description_width": ""
     }
    },
    "d32f7566c7e54c6bb3d00a4060def0df": {
     "model_module": "@jupyter-widgets/controls",
     "model_module_version": "1.5.0",
     "model_name": "DescriptionStyleModel",
     "state": {
      "_model_module": "@jupyter-widgets/controls",
      "_model_module_version": "1.5.0",
      "_model_name": "DescriptionStyleModel",
      "_view_count": null,
      "_view_module": "@jupyter-widgets/base",
      "_view_module_version": "1.2.0",
      "_view_name": "StyleView",
      "description_width": ""
     }
    },
    "d548b45431f14476ae2651ea0a99c4e9": {
     "model_module": "@jupyter-widgets/controls",
     "model_module_version": "1.5.0",
     "model_name": "DescriptionStyleModel",
     "state": {
      "_model_module": "@jupyter-widgets/controls",
      "_model_module_version": "1.5.0",
      "_model_name": "DescriptionStyleModel",
      "_view_count": null,
      "_view_module": "@jupyter-widgets/base",
      "_view_module_version": "1.2.0",
      "_view_name": "StyleView",
      "description_width": ""
     }
    },
    "d8640c13af7248aa8135a3c02c602be1": {
     "model_module": "@jupyter-widgets/controls",
     "model_module_version": "1.5.0",
     "model_name": "FloatProgressModel",
     "state": {
      "_dom_classes": [],
      "_model_module": "@jupyter-widgets/controls",
      "_model_module_version": "1.5.0",
      "_model_name": "FloatProgressModel",
      "_view_count": null,
      "_view_module": "@jupyter-widgets/controls",
      "_view_module_version": "1.5.0",
      "_view_name": "ProgressView",
      "bar_style": "success",
      "description": "",
      "description_tooltip": null,
      "layout": "IPY_MODEL_396f07f2e6de4b628cbfac7ade7391f5",
      "max": 1,
      "min": 0,
      "orientation": "horizontal",
      "style": "IPY_MODEL_21d2124d1a8f45ebaacd3718ce89fd7c",
      "value": 1
     }
    },
    "d8dc48f640e64fb09e47ed19fda41cb9": {
     "model_module": "@jupyter-widgets/controls",
     "model_module_version": "1.5.0",
     "model_name": "HTMLModel",
     "state": {
      "_dom_classes": [],
      "_model_module": "@jupyter-widgets/controls",
      "_model_module_version": "1.5.0",
      "_model_name": "HTMLModel",
      "_view_count": null,
      "_view_module": "@jupyter-widgets/controls",
      "_view_module_version": "1.5.0",
      "_view_name": "HTMLView",
      "description": "",
      "description_tooltip": null,
      "layout": "IPY_MODEL_79388ace30484feeb999f78ecaf046ed",
      "placeholder": "​",
      "style": "IPY_MODEL_000574793ad64cb99bf97ea86c403916",
      "value": " 29/29 [00:04&lt;00:00, 12.40 MiB/s]"
     }
    },
    "d963b9ccdb9e4ae2a07308a9b80670c6": {
     "model_module": "@jupyter-widgets/controls",
     "model_module_version": "1.5.0",
     "model_name": "HTMLModel",
     "state": {
      "_dom_classes": [],
      "_model_module": "@jupyter-widgets/controls",
      "_model_module_version": "1.5.0",
      "_model_name": "HTMLModel",
      "_view_count": null,
      "_view_module": "@jupyter-widgets/controls",
      "_view_module_version": "1.5.0",
      "_view_name": "HTMLView",
      "description": "",
      "description_tooltip": null,
      "layout": "IPY_MODEL_8f4e9eeb1c534c8ebbb06202fef8e703",
      "placeholder": "​",
      "style": "IPY_MODEL_d32f7566c7e54c6bb3d00a4060def0df",
      "value": " 0/10000 [00:00&lt;?, ? examples/s]"
     }
    },
    "da21a5cd521a44259f936a5be695adb5": {
     "model_module": "@jupyter-widgets/controls",
     "model_module_version": "1.5.0",
     "model_name": "FloatProgressModel",
     "state": {
      "_dom_classes": [],
      "_model_module": "@jupyter-widgets/controls",
      "_model_module_version": "1.5.0",
      "_model_name": "FloatProgressModel",
      "_view_count": null,
      "_view_module": "@jupyter-widgets/controls",
      "_view_module_version": "1.5.0",
      "_view_name": "ProgressView",
      "bar_style": "",
      "description": "",
      "description_tooltip": null,
      "layout": "IPY_MODEL_f1076becbbdf41fba6a7557d9449cc47",
      "max": 2,
      "min": 0,
      "orientation": "horizontal",
      "style": "IPY_MODEL_eaea2a97e98143e1bdc25ff8d2e507dd",
      "value": 2
     }
    },
    "dd8922e69daf477b884b75c81afbfcbb": {
     "model_module": "@jupyter-widgets/base",
     "model_module_version": "1.2.0",
     "model_name": "LayoutModel",
     "state": {
      "_model_module": "@jupyter-widgets/base",
      "_model_module_version": "1.2.0",
      "_model_name": "LayoutModel",
      "_view_count": null,
      "_view_module": "@jupyter-widgets/base",
      "_view_module_version": "1.2.0",
      "_view_name": "LayoutView",
      "align_content": null,
      "align_items": null,
      "align_self": null,
      "border": null,
      "bottom": null,
      "display": null,
      "flex": null,
      "flex_flow": null,
      "grid_area": null,
      "grid_auto_columns": null,
      "grid_auto_flow": null,
      "grid_auto_rows": null,
      "grid_column": null,
      "grid_gap": null,
      "grid_row": null,
      "grid_template_areas": null,
      "grid_template_columns": null,
      "grid_template_rows": null,
      "height": null,
      "justify_content": null,
      "justify_items": null,
      "left": null,
      "margin": null,
      "max_height": null,
      "max_width": null,
      "min_height": null,
      "min_width": null,
      "object_fit": null,
      "object_position": null,
      "order": null,
      "overflow": null,
      "overflow_x": null,
      "overflow_y": null,
      "padding": null,
      "right": null,
      "top": null,
      "visibility": "hidden",
      "width": null
     }
    },
    "de79ef24c3bf439d9843b280fa899dc8": {
     "model_module": "@jupyter-widgets/base",
     "model_module_version": "1.2.0",
     "model_name": "LayoutModel",
     "state": {
      "_model_module": "@jupyter-widgets/base",
      "_model_module_version": "1.2.0",
      "_model_name": "LayoutModel",
      "_view_count": null,
      "_view_module": "@jupyter-widgets/base",
      "_view_module_version": "1.2.0",
      "_view_name": "LayoutView",
      "align_content": null,
      "align_items": null,
      "align_self": null,
      "border": null,
      "bottom": null,
      "display": null,
      "flex": null,
      "flex_flow": null,
      "grid_area": null,
      "grid_auto_columns": null,
      "grid_auto_flow": null,
      "grid_auto_rows": null,
      "grid_column": null,
      "grid_gap": null,
      "grid_row": null,
      "grid_template_areas": null,
      "grid_template_columns": null,
      "grid_template_rows": null,
      "height": null,
      "justify_content": null,
      "justify_items": null,
      "left": null,
      "margin": null,
      "max_height": null,
      "max_width": null,
      "min_height": null,
      "min_width": null,
      "object_fit": null,
      "object_position": null,
      "order": null,
      "overflow": null,
      "overflow_x": null,
      "overflow_y": null,
      "padding": null,
      "right": null,
      "top": null,
      "visibility": null,
      "width": null
     }
    },
    "e47443040a0b4d0cbc124cb651675014": {
     "model_module": "@jupyter-widgets/base",
     "model_module_version": "1.2.0",
     "model_name": "LayoutModel",
     "state": {
      "_model_module": "@jupyter-widgets/base",
      "_model_module_version": "1.2.0",
      "_model_name": "LayoutModel",
      "_view_count": null,
      "_view_module": "@jupyter-widgets/base",
      "_view_module_version": "1.2.0",
      "_view_name": "LayoutView",
      "align_content": null,
      "align_items": null,
      "align_self": null,
      "border": null,
      "bottom": null,
      "display": null,
      "flex": null,
      "flex_flow": null,
      "grid_area": null,
      "grid_auto_columns": null,
      "grid_auto_flow": null,
      "grid_auto_rows": null,
      "grid_column": null,
      "grid_gap": null,
      "grid_row": null,
      "grid_template_areas": null,
      "grid_template_columns": null,
      "grid_template_rows": null,
      "height": null,
      "justify_content": null,
      "justify_items": null,
      "left": null,
      "margin": null,
      "max_height": null,
      "max_width": null,
      "min_height": null,
      "min_width": null,
      "object_fit": null,
      "object_position": null,
      "order": null,
      "overflow": null,
      "overflow_x": null,
      "overflow_y": null,
      "padding": null,
      "right": null,
      "top": null,
      "visibility": null,
      "width": null
     }
    },
    "e7495949abd2437991c0957bd3bcb31b": {
     "model_module": "@jupyter-widgets/controls",
     "model_module_version": "1.5.0",
     "model_name": "DescriptionStyleModel",
     "state": {
      "_model_module": "@jupyter-widgets/controls",
      "_model_module_version": "1.5.0",
      "_model_name": "DescriptionStyleModel",
      "_view_count": null,
      "_view_module": "@jupyter-widgets/base",
      "_view_module_version": "1.2.0",
      "_view_name": "StyleView",
      "description_width": ""
     }
    },
    "eaea2a97e98143e1bdc25ff8d2e507dd": {
     "model_module": "@jupyter-widgets/controls",
     "model_module_version": "1.5.0",
     "model_name": "ProgressStyleModel",
     "state": {
      "_model_module": "@jupyter-widgets/controls",
      "_model_module_version": "1.5.0",
      "_model_name": "ProgressStyleModel",
      "_view_count": null,
      "_view_module": "@jupyter-widgets/base",
      "_view_module_version": "1.2.0",
      "_view_name": "StyleView",
      "bar_color": null,
      "description_width": ""
     }
    },
    "f1076becbbdf41fba6a7557d9449cc47": {
     "model_module": "@jupyter-widgets/base",
     "model_module_version": "1.2.0",
     "model_name": "LayoutModel",
     "state": {
      "_model_module": "@jupyter-widgets/base",
      "_model_module_version": "1.2.0",
      "_model_name": "LayoutModel",
      "_view_count": null,
      "_view_module": "@jupyter-widgets/base",
      "_view_module_version": "1.2.0",
      "_view_name": "LayoutView",
      "align_content": null,
      "align_items": null,
      "align_self": null,
      "border": null,
      "bottom": null,
      "display": null,
      "flex": null,
      "flex_flow": null,
      "grid_area": null,
      "grid_auto_columns": null,
      "grid_auto_flow": null,
      "grid_auto_rows": null,
      "grid_column": null,
      "grid_gap": null,
      "grid_row": null,
      "grid_template_areas": null,
      "grid_template_columns": null,
      "grid_template_rows": null,
      "height": null,
      "justify_content": null,
      "justify_items": null,
      "left": null,
      "margin": null,
      "max_height": null,
      "max_width": null,
      "min_height": null,
      "min_width": null,
      "object_fit": null,
      "object_position": null,
      "order": null,
      "overflow": null,
      "overflow_x": null,
      "overflow_y": null,
      "padding": null,
      "right": null,
      "top": null,
      "visibility": null,
      "width": null
     }
    },
    "f38df8ba4ae24785a9331f7c0079b03f": {
     "model_module": "@jupyter-widgets/controls",
     "model_module_version": "1.5.0",
     "model_name": "HTMLModel",
     "state": {
      "_dom_classes": [],
      "_model_module": "@jupyter-widgets/controls",
      "_model_module_version": "1.5.0",
      "_model_name": "HTMLModel",
      "_view_count": null,
      "_view_module": "@jupyter-widgets/controls",
      "_view_module_version": "1.5.0",
      "_view_name": "HTMLView",
      "description": "",
      "description_tooltip": null,
      "layout": "IPY_MODEL_7ca1be3d2bf74367b4e0ddf07ddd4670",
      "placeholder": "​",
      "style": "IPY_MODEL_ce5c9c9357f44f8eba426536824aa0bc",
      "value": "Dl Completed...: 100%"
     }
    },
    "f5ac0f6b31e54fd0b1ab30769e45da17": {
     "model_module": "@jupyter-widgets/controls",
     "model_module_version": "1.5.0",
     "model_name": "FloatProgressModel",
     "state": {
      "_dom_classes": [],
      "_model_module": "@jupyter-widgets/controls",
      "_model_module_version": "1.5.0",
      "_model_name": "FloatProgressModel",
      "_view_count": null,
      "_view_module": "@jupyter-widgets/controls",
      "_view_module_version": "1.5.0",
      "_view_name": "ProgressView",
      "bar_style": "",
      "description": "",
      "description_tooltip": null,
      "layout": "IPY_MODEL_bf936c33106c4eb1a2162da7d8051c5f",
      "max": 10000,
      "min": 0,
      "orientation": "horizontal",
      "style": "IPY_MODEL_001a318382844d7eb1d80ee8bc650166",
      "value": 10000
     }
    },
    "f8cafafb97a143759e4f3b22b877bdcd": {
     "model_module": "@jupyter-widgets/controls",
     "model_module_version": "1.5.0",
     "model_name": "FloatProgressModel",
     "state": {
      "_dom_classes": [],
      "_model_module": "@jupyter-widgets/controls",
      "_model_module_version": "1.5.0",
      "_model_name": "FloatProgressModel",
      "_view_count": null,
      "_view_module": "@jupyter-widgets/controls",
      "_view_module_version": "1.5.0",
      "_view_name": "ProgressView",
      "bar_style": "",
      "description": "",
      "description_tooltip": null,
      "layout": "IPY_MODEL_6df5c240cdd149feab3d41c25129dd3d",
      "max": 60000,
      "min": 0,
      "orientation": "horizontal",
      "style": "IPY_MODEL_4a58bff9689947729e30750408ac43a0",
      "value": 60000
     }
    },
    "faa305b3fbbf4e1d92a25654dade6c1b": {
     "model_module": "@jupyter-widgets/controls",
     "model_module_version": "1.5.0",
     "model_name": "HTMLModel",
     "state": {
      "_dom_classes": [],
      "_model_module": "@jupyter-widgets/controls",
      "_model_module_version": "1.5.0",
      "_model_name": "HTMLModel",
      "_view_count": null,
      "_view_module": "@jupyter-widgets/controls",
      "_view_module_version": "1.5.0",
      "_view_name": "HTMLView",
      "description": "",
      "description_tooltip": null,
      "layout": "IPY_MODEL_19bb6bc8ea5043e2aa0535a2160845ef",
      "placeholder": "​",
      "style": "IPY_MODEL_6b8652af4b844168bf088a38de647c7b",
      "value": "Generating train examples...: 100%"
     }
    }
   }
  }
 },
 "nbformat": 4,
 "nbformat_minor": 1
}
